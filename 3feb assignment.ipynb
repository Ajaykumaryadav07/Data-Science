{
 "cells": [
  {
   "cell_type": "markdown",
   "id": "c29868f4-e9dd-4bee-beac-1eeac868787c",
   "metadata": {},
   "source": [
    "The keyword def is used to create a function in Python.\n",
    "Here's an example of a function that returns a list of odd numbers in the range of 1 to 25:"
   ]
  },
  {
   "cell_type": "code",
   "execution_count": 2,
   "id": "2fa7d109-87dc-451c-babb-97872b9d9090",
   "metadata": {},
   "outputs": [
    {
     "name": "stdout",
     "output_type": "stream",
     "text": [
      "[1, 3, 5, 7, 9, 11, 13, 15, 17, 19, 21, 23, 25]\n"
     ]
    }
   ],
   "source": [
    "def get_odd_numbers():\n",
    "    odd_numbers = []\n",
    "    for i in range(1, 26):\n",
    "        if i % 2 != 0:\n",
    "            odd_numbers.append(i)\n",
    "    return odd_numbers\n",
    "\n",
    "print(get_odd_numbers())\n"
   ]
  },
  {
   "cell_type": "markdown",
   "id": "ec1f3883-b245-4c0b-92fc-273ac3fdd6a5",
   "metadata": {},
   "source": [
    "*args and **kwargs are used in functions as a way to pass a variable number of arguments to a function.\n",
    "\n",
    "*args is used to pass a non-keyworded, variable-length argument list to a function. When a function is defined with *args, it can accept any number of positional arguments, which are passed to the function as a tuple.\n",
    "\n",
    "Here's an example of a function that demonstrates the use of *args:"
   ]
  },
  {
   "cell_type": "code",
   "execution_count": 3,
   "id": "a3747f81-00b2-4dac-b412-fc17e9bfd7b3",
   "metadata": {},
   "outputs": [
    {
     "name": "stdout",
     "output_type": "stream",
     "text": [
      "1\n",
      "2\n",
      "3\n",
      "4\n",
      "5\n"
     ]
    }
   ],
   "source": [
    "def print_args(*args):\n",
    "    for arg in args:\n",
    "        print(arg)\n",
    "\n",
    "print_args(1, 2, 3, 4, 5)\n"
   ]
  },
  {
   "cell_type": "markdown",
   "id": "0116c20f-8e8b-4dc5-991d-94ea451ca2b7",
   "metadata": {},
   "source": [
    "This function takes any number of positional arguments, which are passed to the function as a tuple. When the function is called with print_args(1, 2, 3, 4, 5), it will print each argument:"
   ]
  },
  {
   "cell_type": "markdown",
   "id": "cf1bccb9-5348-462b-a985-72bd9673ceba",
   "metadata": {},
   "source": [
    "**kwargs is used to pass keyworded, variable-length argument list to a function. When a function is defined with **kwargs, it can accept any number of keyword arguments, which are passed to the function as a dictionary.\n",
    "\n",
    "Here's an example of a function that demonstrates the use of **kwargs:"
   ]
  },
  {
   "cell_type": "code",
   "execution_count": 4,
   "id": "42759488-56ab-4f99-abae-5b686689992f",
   "metadata": {},
   "outputs": [
    {
     "name": "stdout",
     "output_type": "stream",
     "text": [
      "name: John\n",
      "age: 30\n",
      "city: New York\n"
     ]
    }
   ],
   "source": [
    "def print_kwargs(**kwargs):\n",
    "    for key, value in kwargs.items():\n",
    "        print(f\"{key}: {value}\")\n",
    "\n",
    "print_kwargs(name=\"John\", age=30, city=\"New York\")\n"
   ]
  },
  {
   "cell_type": "markdown",
   "id": "e9dca8c9-3773-41cf-9b59-f3e3265612bf",
   "metadata": {},
   "source": [
    "This function takes any number of keyword arguments, which are passed to the function as a dictionary. When the function is called with print_kwargs(name=\"John\", age=30, city=\"New York\"), it will print each key-value pair:\n",
    "\n",
    "vbnet\n"
   ]
  },
  {
   "cell_type": "markdown",
   "id": "cad7fb0c-ffdf-49fa-8fb2-35f580dc85ae",
   "metadata": {},
   "source": [
    "An iterator in Python is an object that implements the iterator protocol. The iterator protocol consists of two methods: __iter__ and __next__. The __iter__ method is used to initialize the iterator object and returns the iterator object. The __next__ method is used to retrieve the next value from the iterator.\n",
    "\n",
    "Here's an example of using these methods to print the first five elements of the given list:"
   ]
  },
  {
   "cell_type": "code",
   "execution_count": 5,
   "id": "20d8600c-626a-458b-8c85-a291d754182a",
   "metadata": {},
   "outputs": [
    {
     "name": "stdout",
     "output_type": "stream",
     "text": [
      "2\n",
      "4\n",
      "6\n",
      "8\n",
      "10\n"
     ]
    }
   ],
   "source": [
    "lst = [2, 4, 6, 8, 10, 12, 14, 16, 18, 20]\n",
    "\n",
    "# Create an iterator object from the list\n",
    "it = iter(lst)\n",
    "\n",
    "# Use the __next__ method to retrieve the next value from the iterator\n",
    "for i in range(5):\n",
    "    print(next(it))\n"
   ]
  },
  {
   "cell_type": "markdown",
   "id": "fe542706-67b2-4222-8379-c893ae9d945e",
   "metadata": {},
   "source": [
    "A generator function is a special type of function in Python that allows you to generate a sequence of values. It is defined like a regular function, but instead of using the return keyword, it uses the yield keyword. The yield keyword is used to return a value from the generator function and pause the function's execution, allowing it to be resumed later on.\n",
    "\n",
    "When you call a generator function, it doesn't execute the function like a regular function, instead it returns a generator object that you can iterate over. Each time the generator is resumed, it executes the function from the point where it was paused, until it encounters another yield statement.\n",
    "\n",
    "Here's an example of a generator function that generates the Fibonacci sequence:"
   ]
  },
  {
   "cell_type": "code",
   "execution_count": 6,
   "id": "c34257a6-e7ed-4cab-a719-3160f444bb18",
   "metadata": {},
   "outputs": [],
   "source": [
    "def fibonacci(n):\n",
    "    a, b = 0, 1\n",
    "    for i in range(n):\n",
    "        yield a\n",
    "        a, b = b, a + b\n"
   ]
  },
  {
   "cell_type": "code",
   "execution_count": 7,
   "id": "abe6dcca-a7f8-4061-91ae-94bad03d0c35",
   "metadata": {},
   "outputs": [
    {
     "name": "stdout",
     "output_type": "stream",
     "text": [
      "0\n",
      "1\n",
      "1\n",
      "2\n",
      "3\n",
      "5\n",
      "8\n",
      "13\n",
      "21\n",
      "34\n"
     ]
    }
   ],
   "source": [
    "for number in fibonacci(10):\n",
    "    print(number)\n"
   ]
  },
  {
   "cell_type": "code",
   "execution_count": null,
   "id": "670ba0eb-0216-4948-bd43-3a4dddd8fdc1",
   "metadata": {},
   "outputs": [],
   "source": []
  }
 ],
 "metadata": {
  "kernelspec": {
   "display_name": "Python 3 (ipykernel)",
   "language": "python",
   "name": "python3"
  },
  "language_info": {
   "codemirror_mode": {
    "name": "ipython",
    "version": 3
   },
   "file_extension": ".py",
   "mimetype": "text/x-python",
   "name": "python",
   "nbconvert_exporter": "python",
   "pygments_lexer": "ipython3",
   "version": "3.10.8"
  }
 },
 "nbformat": 4,
 "nbformat_minor": 5
}
