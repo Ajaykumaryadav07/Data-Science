{
 "cells": [
  {
   "cell_type": "markdown",
   "id": "46a217e7-f0b5-4662-9ea8-0fd259a89469",
   "metadata": {},
   "source": [
    "Q1: What are the Probability Mass Function (PMF) and Probability Density Function (PDF)? Explain with an example.\n",
    "\n",
    "Probability Mass Function (PMF) and Probability Density Function (PDF) are two ways of representing the probability distribution of a random variable.\n",
    "\n",
    "PMF is used for discrete random variables, and it gives the probability of each possible value that the random variable can take. For example, the PMF of a fair six-sided die would give a probability of 1/6 for each of the possible outcomes of rolling the die (1, 2, 3, 4, 5, or 6).\n",
    "\n",
    "PDF, on the other hand, is used for continuous random variables, and it gives the probability density of the random variable at each possible value. The probability of a continuous random variable taking on any specific value is zero, but the area under the PDF over a range of values gives the probability that the variable falls within that range. For example, the PDF of the standard normal distribution gives the probability density of a random variable with mean 0 and standard deviation 1, and the area under the curve between any two values gives the probability that the variable falls within that range."
   ]
  },
  {
   "cell_type": "markdown",
   "id": "86dddc70-52a3-4f12-84c1-5c6b0782a415",
   "metadata": {},
   "source": [
    "Q2: What is Cumulative Density Function (CDF)? Explain with an example. Why CDF is used?\n",
    "\n",
    "Cumulative Density Function (CDF) is a function that gives the probability that a random variable takes on a value less than or equal to a given value. It is used for both discrete and continuous random variables.\n",
    "\n",
    "For a discrete random variable, the CDF is the sum of the probabilities of all possible outcomes up to and including the given value. For example, the CDF of a fair six-sided die gives a probability of 1/6 for each possible value of the die up to and including that value.\n",
    "\n",
    "For a continuous random variable, the CDF is the area under the PDF up to and including the given value. For example, the CDF of the standard normal distribution gives the probability that a random variable with mean 0 and standard deviation 1 is less than or equal to a given value.\n",
    "\n",
    "CDF is used to calculate probabilities of events that are not simple to compute using PMF or PDF. It is also used to calculate percentiles of a distribution"
   ]
  },
  {
   "cell_type": "markdown",
   "id": "3781f02b-ece3-4f71-a66a-d7da774c574c",
   "metadata": {},
   "source": [
    "Q3: What are some examples of situations where the normal distribution might be used as a model? Explain how the parameters of the normal distribution relate to the shape of the distribution.\n",
    "\n",
    "The normal distribution is a widely used probability distribution for continuous random variables. It is often used as a model for situations where the distribution of a variable is not known but is assumed to be symmetric and bell-shaped.\n",
    "\n",
    "Some examples of situations where the normal distribution might be used as a model include:\n",
    "\n",
    "Heights or weights of people in a population\n",
    "IQ scores\n",
    "Errors in measurements\n",
    "Stock prices\n",
    "The shape of a normal distribution is determined by two parameters: the mean and the standard deviation. The mean determines the center of the distribution, while the standard deviation determines the spread of the distribution. As the standard deviation increases, the distribution becomes wider and flatter, while as the standard deviation decreases, the distribution becomes narrower and taller"
   ]
  },
  {
   "cell_type": "markdown",
   "id": "db439642-d7d9-4988-a473-9f629681af42",
   "metadata": {},
   "source": [
    "Q4: Explain the importance of Normal Distribution. Give a few real-life examples of Normal Distribution.\n",
    "\n",
    "Normal distribution is important because it is a very common distribution for many natural phenomena. It provides a good approximation for many real-life situations and is a fundamental concept in statistics and probability theory. It is used in many fields, including finance, physics, engineering, social sciences, and many more.\n",
    "\n",
    "Some real-life examples of normal distribution include:\n",
    "\n",
    "Heights of people in a population\n",
    "IQ scores\n",
    "Test scores\n",
    "The weight of a product produced in a manufacturing process\n",
    "The time it takes for customers"
   ]
  },
  {
   "cell_type": "markdown",
   "id": "092a168d-b5fe-4910-b621-5b64a7f1a741",
   "metadata": {},
   "source": [
    "Q5: Bernoulli Distribution is a discrete probability distribution that describes the probability of a binary event. It models a random variable that can take two possible values, typically labeled as success and failure. An example of Bernoulli Distribution is a coin toss, where the probability of getting a head is p and the probability of getting a tail is 1-p. The difference between Bernoulli Distribution and Binomial Distribution is that Bernoulli Distribution models the probability of a single trial of a binary event, whereas Binomial Distribution models the probability of a certain number of successes in a fixed number of trials."
   ]
  },
  {
   "cell_type": "markdown",
   "id": "8a2446cb-9d1a-4409-9b71-2c65543d39c2",
   "metadata": {},
   "source": [
    "Q6: The probability that a randomly selected observation from a normal distribution with a mean of 50 and a standard deviation of 10 will be greater than 60 can be calculated as follows:\n",
    "\n",
    "z = (x - mean) / standard deviation\n",
    "z = (60 - 50) / 10\n",
    "z = 1\n",
    "\n",
    "Using a standard normal distribution table or calculator, the probability of z being less than or equal to 1 is approximately 0.8413. Therefore, the probability of a randomly selected observation being greater than 60 is approximately 1 - 0.8413 = 0.1587 or 15.87%."
   ]
  },
  {
   "cell_type": "markdown",
   "id": "166dbfc6-b4fd-4876-a651-932e964c4cfd",
   "metadata": {},
   "source": [
    "Q7: Uniform Distribution is a continuous probability distribution that describes a situation where every value within a given range is equally likely to occur. An example of Uniform Distribution is the rolling of a fair die, where each of the six possible outcomes has an equal probability of 1/6."
   ]
  },
  {
   "cell_type": "markdown",
   "id": "7a8516c5-39dc-4d05-8b5f-185d73785c2e",
   "metadata": {},
   "source": [
    "Q8: The z score, also known as the standard score, is a standardized measure of how many standard deviations a data point is from the mean of a distribution. It is calculated as follows:\n",
    "\n",
    "z = (x - mean) / standard deviation\n",
    "\n",
    "The importance of the z score is that it allows us to compare and analyze data from different normal distributions on a common scale. It also helps us to identify outliers in a dataset."
   ]
  },
  {
   "cell_type": "code",
   "execution_count": null,
   "id": "df07445c-df70-474b-b8f8-a52140d9de43",
   "metadata": {},
   "outputs": [],
   "source": []
  }
 ],
 "metadata": {
  "kernelspec": {
   "display_name": "Python 3 (ipykernel)",
   "language": "python",
   "name": "python3"
  },
  "language_info": {
   "codemirror_mode": {
    "name": "ipython",
    "version": 3
   },
   "file_extension": ".py",
   "mimetype": "text/x-python",
   "name": "python",
   "nbconvert_exporter": "python",
   "pygments_lexer": "ipython3",
   "version": "3.10.8"
  }
 },
 "nbformat": 4,
 "nbformat_minor": 5
}
