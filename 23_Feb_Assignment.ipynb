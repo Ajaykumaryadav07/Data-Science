{
 "cells": [
  {
   "cell_type": "code",
   "execution_count": 1,
   "id": "d14a7335-78fd-4713-8b27-fbd4ea7eae74",
   "metadata": {},
   "outputs": [],
   "source": [
    "import pandas as pd"
   ]
  },
  {
   "cell_type": "code",
   "execution_count": 2,
   "id": "3ea9e44e-ec2d-4562-a9a2-683c88b6f74e",
   "metadata": {},
   "outputs": [],
   "source": [
    "data=[4, 8, 15, 16, 23, 42]"
   ]
  },
  {
   "cell_type": "code",
   "execution_count": 3,
   "id": "ce361c66-a572-43bc-9c0c-be3d381ef6f1",
   "metadata": {},
   "outputs": [
    {
     "data": {
      "text/plain": [
       "list"
      ]
     },
     "execution_count": 3,
     "metadata": {},
     "output_type": "execute_result"
    }
   ],
   "source": [
    "type(data)"
   ]
  },
  {
   "cell_type": "code",
   "execution_count": 4,
   "id": "0068ce0f-feeb-4651-b290-9c056671d237",
   "metadata": {},
   "outputs": [],
   "source": [
    "s=pd.Series(data)"
   ]
  },
  {
   "cell_type": "code",
   "execution_count": 5,
   "id": "ca1a8cae-b811-4d61-a79d-1ca8443c6703",
   "metadata": {},
   "outputs": [
    {
     "data": {
      "text/plain": [
       "pandas.core.series.Series"
      ]
     },
     "execution_count": 5,
     "metadata": {},
     "output_type": "execute_result"
    }
   ],
   "source": [
    "type(s)"
   ]
  },
  {
   "cell_type": "code",
   "execution_count": 6,
   "id": "53b2b0d6-abcc-49f0-8d9c-e61ea52bc1f2",
   "metadata": {},
   "outputs": [
    {
     "data": {
      "text/plain": [
       "0     4\n",
       "1     8\n",
       "2    15\n",
       "3    16\n",
       "4    23\n",
       "5    42\n",
       "dtype: int64"
      ]
     },
     "execution_count": 6,
     "metadata": {},
     "output_type": "execute_result"
    }
   ],
   "source": [
    "s"
   ]
  },
  {
   "cell_type": "code",
   "execution_count": 8,
   "id": "31031fd0-4ca2-4742-afde-40c9e62d3e7c",
   "metadata": {},
   "outputs": [
    {
     "data": {
      "text/plain": [
       "0     1\n",
       "1     2\n",
       "2     3\n",
       "3     4\n",
       "4     5\n",
       "5     6\n",
       "6     7\n",
       "7     8\n",
       "8     9\n",
       "9    10\n",
       "dtype: int64"
      ]
     },
     "execution_count": 8,
     "metadata": {},
     "output_type": "execute_result"
    }
   ],
   "source": [
    "data1=[1,2,3,4,5,6,7,8,9,10]\n",
    "s1=pd.Series(data1)\n",
    "s1"
   ]
  },
  {
   "cell_type": "code",
   "execution_count": 9,
   "id": "91539185-49a4-457f-8ef7-a56c35be2cfb",
   "metadata": {},
   "outputs": [],
   "source": [
    "data2 = {\n",
    "    'Name': ['Alice', 'Bob', 'Claire'],\n",
    "    'Age': [25, 30, 27],\n",
    "    'Gender': ['Female', 'Male', 'Female']\n",
    "}\n",
    "df=pd.DataFrame(data2)"
   ]
  },
  {
   "cell_type": "code",
   "execution_count": 10,
   "id": "a52b13a8-0e03-4d36-8462-ecb610b3e44e",
   "metadata": {},
   "outputs": [
    {
     "data": {
      "text/html": [
       "<div>\n",
       "<style scoped>\n",
       "    .dataframe tbody tr th:only-of-type {\n",
       "        vertical-align: middle;\n",
       "    }\n",
       "\n",
       "    .dataframe tbody tr th {\n",
       "        vertical-align: top;\n",
       "    }\n",
       "\n",
       "    .dataframe thead th {\n",
       "        text-align: right;\n",
       "    }\n",
       "</style>\n",
       "<table border=\"1\" class=\"dataframe\">\n",
       "  <thead>\n",
       "    <tr style=\"text-align: right;\">\n",
       "      <th></th>\n",
       "      <th>Name</th>\n",
       "      <th>Age</th>\n",
       "      <th>Gender</th>\n",
       "    </tr>\n",
       "  </thead>\n",
       "  <tbody>\n",
       "    <tr>\n",
       "      <th>0</th>\n",
       "      <td>Alice</td>\n",
       "      <td>25</td>\n",
       "      <td>Female</td>\n",
       "    </tr>\n",
       "    <tr>\n",
       "      <th>1</th>\n",
       "      <td>Bob</td>\n",
       "      <td>30</td>\n",
       "      <td>Male</td>\n",
       "    </tr>\n",
       "    <tr>\n",
       "      <th>2</th>\n",
       "      <td>Claire</td>\n",
       "      <td>27</td>\n",
       "      <td>Female</td>\n",
       "    </tr>\n",
       "  </tbody>\n",
       "</table>\n",
       "</div>"
      ],
      "text/plain": [
       "     Name  Age  Gender\n",
       "0   Alice   25  Female\n",
       "1     Bob   30    Male\n",
       "2  Claire   27  Female"
      ]
     },
     "execution_count": 10,
     "metadata": {},
     "output_type": "execute_result"
    }
   ],
   "source": [
    "df"
   ]
  },
  {
   "cell_type": "markdown",
   "id": "0aa92600-8c26-4654-a8e4-3500543211de",
   "metadata": {},
   "source": [
    "##In Pandas, a DataFrame is a two-dimensional labeled data structure with columns of potentially different data types. It can be thought of as a table or a spreadsheet, with rows and columns. A DataFrame can be created from a variety of data sources, including dictionaries, lists, CSV files, and SQL databases.\n",
    "\n",
    "On the other hand, a Pandas Series is a one-dimensional labeled array that can hold data of any type (integer, float, string, etc.). It can be thought of as a column in a DataFrame or a single row in a spreadsheet. A Series can be created from a variety of data sources, including lists, dictionaries, and NumPy arrays.\n",
    "\n",
    "The main difference between a DataFrame and a Series is that a DataFrame is a two-dimensional structure, while a Series is a one-dimensional structure. A DataFrame can be thought of as a collection of Series objects, where each column in the DataFrame is a Series. Additionally, a DataFrame has both row and column labels, whereas a Series only has row labels."
   ]
  },
  {
   "cell_type": "markdown",
   "id": "3e087823-2952-426c-ae54-92b383b8d415",
   "metadata": {},
   "source": [
    "Pandas offers a wide range of functions that can be used to manipulate data in a DataFrame. Some common functions are:"
   ]
  },
  {
   "cell_type": "markdown",
   "id": "0da1c242-a83f-4d53-beea-ba7069d73db3",
   "metadata": {},
   "source": [
    "head() and tail(): Returns the first or last n rows of a DataFrame respectively. These are useful for quickly checking the structure and content of a DataFrame"
   ]
  },
  {
   "cell_type": "code",
   "execution_count": 11,
   "id": "34352751-65be-4b98-b37a-b36248c0fb2c",
   "metadata": {},
   "outputs": [
    {
     "name": "stdout",
     "output_type": "stream",
     "text": [
      "    Name  Age  Gender\n",
      "0  Alice   25  Female\n",
      "1    Bob   30    Male\n"
     ]
    }
   ],
   "source": [
    "print(df.head(2))"
   ]
  },
  {
   "cell_type": "code",
   "execution_count": 12,
   "id": "935a27d1-a591-4998-aae9-e166fc834f9d",
   "metadata": {},
   "outputs": [
    {
     "name": "stdout",
     "output_type": "stream",
     "text": [
      "     Name  Age  Gender\n",
      "1     Bob   30    Male\n",
      "2  Claire   27  Female\n"
     ]
    }
   ],
   "source": [
    "print(df.tail(2))"
   ]
  },
  {
   "cell_type": "markdown",
   "id": "6015cfe2-e2bc-461c-9a0b-9160c282b9ec",
   "metadata": {},
   "source": [
    "In Pandas, both Series and DataFrame are mutable in nature. This means that you can modify the data in these data structures after they have been created.\n",
    "\n",
    "However, Panel is a 3-dimensional data structure in Pandas which has been deprecated since version 0.25.0, and it is recommended to use other data structures such as MultiIndex or xarray for handling 3-dimensional data."
   ]
  },
  {
   "cell_type": "code",
   "execution_count": null,
   "id": "357ec96d-db33-47f5-ba99-7a046e62c640",
   "metadata": {},
   "outputs": [],
   "source": [
    "name=pd.Series(['Alice', 'Bob', 'Claire'])\n",
    "age=pd.Series([25, 30, 27])\n",
    "gender=pd.Series(['Female', 'Male', 'Female'])\n",
    "data5=pd.DataFrame({'Name':name, 'Age':age, 'Gender':gender})"
   ]
  }
 ],
 "metadata": {
  "kernelspec": {
   "display_name": "Python 3 (ipykernel)",
   "language": "python",
   "name": "python3"
  },
  "language_info": {
   "codemirror_mode": {
    "name": "ipython",
    "version": 3
   },
   "file_extension": ".py",
   "mimetype": "text/x-python",
   "name": "python",
   "nbconvert_exporter": "python",
   "pygments_lexer": "ipython3",
   "version": "3.10.8"
  }
 },
 "nbformat": 4,
 "nbformat_minor": 5
}
