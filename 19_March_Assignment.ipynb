{
 "cells": [
  {
   "cell_type": "markdown",
   "id": "e6c74c60-389c-4efd-938f-dec424f5d9a8",
   "metadata": {},
   "source": [
    "Q:1\n",
    "Min-Max scaling is a technique used in data preprocessing to scale numerical data to a specific range, usually between 0 and 1. The process involves subtracting the minimum value of the data and then dividing it by the range of the data (maximum value minus the minimum value). This results in a new scaled range of values between 0 and 1.\n",
    "\n",
    "For example, suppose we have a dataset containing values between 10 and 100. We can apply Min-Max scaling to scale the data to a range between 0 and 1.\n",
    "\n",
    "To do this, we subtract the minimum value (10) from all values in the dataset, which will make the minimum value 0. Then we divide each value by the range of the data (100 - 10 = 90). This will transform the maximum value of 100 to 1. The scaled values will now range from 0 to 1.\n",
    "\n",
    "The formula for Min-Max scaling is as follows:\n",
    "X_scaled = (X - X_min) / (X_max - X_min)\n"
   ]
  },
  {
   "cell_type": "markdown",
   "id": "0b26302c-1162-4bd1-bd5a-fa282940e878",
   "metadata": {},
   "source": [
    "Q2. The Unit Vector technique, also known as normalization, is a feature scaling method that scales each feature such that the length of the feature vector is 1. This technique involves dividing each data point by the magnitude of the vector. Normalization is different from Min-Max scaling because it does not depend on the range of the data.\n",
    "\n",
    "For example, suppose we have a dataset containing two features, height and weight. We can apply normalization to scale the features to unit vectors. To do this, we divide each data point by the magnitude of the vector:"
   ]
  },
  {
   "cell_type": "markdown",
   "id": "909bfd0c-aaac-4342-a267-1ff7c906f7ca",
   "metadata": {},
   "source": [
    "Q3. PCA (Principal Component Analysis) is a technique used in dimensionality reduction. It involves transforming a high-dimensional dataset into a lower-dimensional dataset by identifying the most important features that capture the maximum variance in the data. The transformed dataset is created by finding a new set of orthogonal variables, called principal components, that explain the maximum amount of variance in the original data.\n",
    "\n",
    "For example, suppose we have a dataset containing many features, such as height, weight, age, and income. We can use PCA to identify the most important features and reduce the dimensionality of the dataset."
   ]
  },
  {
   "cell_type": "markdown",
   "id": "08f46e83-0737-476d-96fb-4f954e12ab76",
   "metadata": {},
   "source": [
    "Q4. PCA and Feature Extraction are related in that PCA can be used as a feature extraction technique to identify the most important features in a dataset. The principal components identified by PCA can be used as the new features in a machine learning algorithm. For example, suppose we have a dataset containing many features, such as height, weight, age, and income. We can use PCA to identify the principal components that explain the maximum amount of variance in the data. The new features can be the principal components themselves, which can then be used in a machine learning algorithm"
   ]
  },
  {
   "cell_type": "markdown",
   "id": "107440a1-db3e-40fb-b264-6527cbd4ceac",
   "metadata": {},
   "source": [
    "Q5. In a project to build a recommendation system for a food delivery service, Min-Max scaling can be used to preprocess the data by scaling the numerical features, such as price, rating, and delivery time, to a specific range, such as between 0 and 1. This will ensure that each feature is treated equally and prevent any feature from dominating the learning algorithm."
   ]
  },
  {
   "cell_type": "markdown",
   "id": "3f7a7715-9116-4825-b459-a8c0c9486801",
   "metadata": {},
   "source": [
    "Q6. In a project to build a model to predict stock prices, PCA can be used to reduce the dimensionality of the dataset by identifying the most important features that capture the maximum variance in the data. This can be useful when dealing with a large number of features. By reducing the number of features, we can simplify the model and improve its performance. We can use PCA to identify the principal components that explain the maximum amount of variance in the data and use them as the new features in the model."
   ]
  },
  {
   "cell_type": "markdown",
   "id": "cea2f801-528e-47c5-90b0-d72e02fa782d",
   "metadata": {},
   "source": [
    "Q:7 To perform Min-Max scaling and transform the values [1, 5, 10, 15, 20] to a range of -1 to 1, we can use the following formula:\n",
    "\n",
    "X_scaled = (X - X_min) / (X_max - X_min) * 2 - 1\n",
    "\n",
    "where X is the original value, X_scaled is the scaled value, X_min is the minimum value of the data, and X_max is the maximum value of the data.\n",
    "\n",
    "First, we determine the minimum and maximum values of the dataset:\n",
    "X_min = 1\n",
    "X_max = 20\n",
    "\n",
    "Now we can apply the formula to each value in the dataset:\n",
    "\n",
    "For X = 1:\n",
    "X_scaled = (1 - 1) / (20 - 1) * 2 - 1\n",
    "= 0\n",
    "\n",
    "For X = 5:\n",
    "X_scaled = (5 - 1) / (20 - 1) * 2 - 1\n",
    "= -0.333\n",
    "\n",
    "For X = 10:\n",
    "X_scaled = (10 - 1) / (20 - 1) * 2 - 1\n",
    "= -0.111\n",
    "\n",
    "For X = 15:\n",
    "X_scaled = (15 - 1) / (20 - 1) * 2 - 1\n",
    "= 0.111\n",
    "\n",
    "For X = 20:\n",
    "X_scaled = (20 - 1) / (20 - 1) * 2 - 1\n",
    "= 1\n",
    "\n",
    "Therefore, after performing Min-Max scaling, the values [1, 5, 10, 15, 20] are transformed to the range of [-1, -0.333, -0.111, 0.111, 1]."
   ]
  },
  {
   "cell_type": "code",
   "execution_count": null,
   "id": "99381b85-a2ee-4aec-a110-bb628cba378a",
   "metadata": {},
   "outputs": [],
   "source": []
  }
 ],
 "metadata": {
  "kernelspec": {
   "display_name": "Python 3 (ipykernel)",
   "language": "python",
   "name": "python3"
  },
  "language_info": {
   "codemirror_mode": {
    "name": "ipython",
    "version": 3
   },
   "file_extension": ".py",
   "mimetype": "text/x-python",
   "name": "python",
   "nbconvert_exporter": "python",
   "pygments_lexer": "ipython3",
   "version": "3.10.8"
  }
 },
 "nbformat": 4,
 "nbformat_minor": 5
}
