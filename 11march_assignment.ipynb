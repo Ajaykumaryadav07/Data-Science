{
 "cells": [
  {
   "cell_type": "markdown",
   "id": "fdafe9da-06c0-4310-8374-750d9bf24d61",
   "metadata": {},
   "source": [
    "Q1: The t-test and z-test are both statistical tests used to determine if the means of two populations are significantly different. However, the t-test is used when the sample size is small or the population standard deviation is unknown, while the z-test is used when the sample size is large and the population standard deviation is known.\n",
    "\n",
    "For example, suppose we want to determine if there is a significant difference in the mean weight of apples harvested from two orchards. If we have a small sample size of apples, we would use a t-test. On the other hand, if we have a large sample size of apples and know the population standard deviation, we would use a z-test.\n",
    "\n",
    "Q2: A one-tailed test is used to test a specific direction of the hypothesis, while a two-tailed test is used to test for any direction of the hypothesis.\n",
    "\n",
    "For example, suppose we want to test the hypothesis that a new drug is effective in reducing cholesterol levels. A one-tailed test would be used if we only wanted to test if the drug reduced cholesterol levels (one direction). A two-tailed test would be used if we wanted to test if the drug either increased or decreased cholesterol levels (any direction).\n",
    "\n",
    "Q3: Type 1 error occurs when a null hypothesis is rejected when it is actually true, while Type 2 error occurs when a null hypothesis is accepted when it is actually false.\n",
    "\n",
    "For example, suppose we want to determine if a coin is fair (null hypothesis) or not (alternative hypothesis). A Type 1 error would occur if we reject the null hypothesis and conclude that the coin is unfair when it is actually fair. A Type 2 error would occur if we accept the null hypothesis and conclude that the coin is fair when it is actually unfair.\n",
    "\n",
    "Q4: Bayes's theorem is a mathematical formula used to calculate the probability of an event based on prior knowledge of conditions that might be related to the event. It is given as:\n",
    "\n",
    "P(A|B) = P(B|A) * P(A) / P(B)\n",
    "\n",
    "where P(A|B) is the probability of event A given event B, P(B|A) is the probability of event B given event A, P(A) is the prior probability of event A, and P(B) is the prior probability of event B.\n",
    "\n",
    "For example, suppose we want to calculate the probability of a patient having a disease given that they test positive for the disease. P(A) would be the prior probability of the patient having the disease, P(B|A) would be the probability of testing positive given that the patient has the disease, and P(B) would be the probability of testing positive in general."
   ]
  },
  {
   "cell_type": "markdown",
   "id": "c095fc87-dfab-413a-901a-634239073833",
   "metadata": {},
   "source": [
    "Q5: A confidence interval is a range of values that provides an estimate of the true population parameter with a certain level of confidence. It is typically used in inferential statistics to indicate the precision of the estimated population parameter.\n",
    "\n",
    "To calculate a confidence interval, you need to know the sample mean, sample size, population standard deviation (or sample standard deviation if the sample size is large), and the desired level of confidence. For example, a 95% confidence interval for a sample mean can be calculated using the following formula:\n",
    "\n",
    "Confidence interval = sample mean ± z*(standard error)\n",
    "\n",
    "where z is the critical value from the standard normal distribution corresponding to the desired level of confidence, and the standard error is the standard deviation of the sample mean.\n",
    "\n",
    "For instance, suppose a sample of 100 people was taken and their average age was 30 years old, with a standard deviation of 5 years. If we want to find a 95% confidence interval, the z-score corresponding to a 95% confidence level is 1.96. The standard error is calculated by dividing the population standard deviation by the square root of the sample size: 5/sqrt(100) = 0.5. Therefore, the 95% confidence interval for the true population mean age is:\n",
    "\n",
    "30 ± 1.96*(0.5) = [29, 31]\n",
    "\n",
    "This means that we can be 95% confident that the true population mean age falls within the range of 29 to 31 years.\n",
    "\n",
    "Q6: Bayes' Theorem is a statistical formula used to calculate the probability of an event occurring based on prior knowledge and new evidence. It is expressed as:\n",
    "\n",
    "P(A|B) = P(B|A)*P(A)/P(B)\n",
    "\n",
    "where P(A|B) is the probability of event A given event B has occurred, P(B|A) is the probability of event B given that event A has occurred, P(A) is the prior probability of event A, and P(B) is the probability of event B.\n",
    "\n",
    "For example, suppose that a company produces two types of cars: type A and type B. The probability of a randomly selected car being type A is 0.6, and the probability of a type A car having a defective part is 0.02, while the probability of a type B car having a defective part is 0.04. If a car is selected at random and found to have a defective part, what is the probability that it is a type A car?\n",
    "\n",
    "We want to find P(A|B), the probability that the car is type A given that it has a defective part. From the information given, P(A) = 0.6, P(B|A) = 0.02, and P(B|not A) = 0.04. Using Bayes' Theorem, we can calculate:\n",
    "\n",
    "P(A|B) = P(B|A)P(A)/[P(B|A)P(A) + P(B|not A)P(not A)]\n",
    "= 0.020.6/[0.020.6 + 0.040.4]\n",
    "= 0.375\n",
    "\n",
    "Therefore, the probability that the defective car is a type A car is 0.375.\n",
    "\n",
    "Q7: To calculate the 95% confidence interval for a sample of data with a mean of 50 and a standard deviation of 5, we need to know the sample size and the critical value of the t-distribution for the desired level of confidence. Assuming a sample size of 30 (which is considered a large sample), the critical value of the t-distribution at 95% confidence level with 29 degrees of freedom is 2."
   ]
  },
  {
   "cell_type": "markdown",
   "id": "54079414-41eb-4038-9079-da3497e1fc8c",
   "metadata": {},
   "source": [
    "Q8. The margin of error in a confidence interval is the range of values above and below the sample estimate that is likely to contain the true population parameter with a certain level of confidence. In other words, it is the amount of uncertainty associated with a sample estimate due to sampling variability. The margin of error is calculated as the product of the critical value for the desired level of confidence and the standard error of the sample.\n",
    "\n",
    "Sample size affects the margin of error in two ways. First, as the sample size increases, the standard error decreases, which results in a smaller margin of error. Second, as the sample size increases, the critical value decreases, which also results in a smaller margin of error. Therefore, a larger sample size generally leads to a smaller margin of error.\n",
    "\n",
    "For example, a pollster wants to estimate the proportion of voters who support a particular candidate in an upcoming election. A random sample of 1000 voters is taken and 600 of them indicate support for the candidate. The pollster wants to calculate a 95% confidence interval for the true proportion of voters who support the candidate. The margin of error can be calculated as follows:\n",
    "\n",
    "Margin of error = critical value x standard error\n",
    "Critical value for 95% confidence level = 1.96 (from the standard normal distribution)\n",
    "Standard error = sqrt[(p*(1-p))/n] = sqrt[(0.6*0.4)/1000] = 0.024\n",
    "\n",
    "Margin of error = 1.96 x 0.024 = 0.04704 or approximately 4.7%\n",
    "\n",
    "Therefore, the 95% confidence interval for the true proportion of voters who support the candidate is (0.553, 0.647), which means we are 95% confident that the true proportion of voters who support the candidate falls between 55.3% and 64.7%.\n",
    "\n",
    "Q9. The z-score for a data point with a value of 75, a population mean of 70, and a population standard deviation of 5 can be calculated as follows:\n",
    "\n",
    "z = (x - μ) / σ = (75 - 70) / 5 = 1\n",
    "\n",
    "Interpretation: A z-score of 1 means that the data point is 1 standard deviation above the population mean.\n",
    "\n",
    "Q10. To conduct a hypothesis test to determine if the weight loss drug is significantly effective at a 95% confidence level using a t-test, we can follow these steps:\n",
    "\n",
    "Null hypothesis: The true mean weight loss is not significantly different from 0 (H0: μ = 0).\n",
    "Alternative hypothesis: The true mean weight loss is significantly greater than 0 (Ha: μ > 0).\n",
    "Significance level: α = 0.05.\n",
    "Test statistic: t = (x̄ - μ) / (s / sqrt(n)) = (6 - 0) / (2.5 / sqrt(50)) = 12\n",
    "Degrees of freedom: df = n - 1 = 49.\n",
    "Critical value: From a t-distribution table with df = 49 and α = 0.05, the critical value is 1.677.\n",
    "Decision rule: If the calculated t-value is greater than the critical value, reject the null hypothesis; otherwise, fail to reject the null hypothesis.\n",
    "Calculation: Since the calculated t-value of 12 is greater than the critical value of 1.677, we reject the null hypothesis.\n",
    "Conclusion: Based on the sample data, there is sufficient evidence to suggest that the weight loss drug is significantly effective at a 95% confidence level"
   ]
  },
  {
   "cell_type": "code",
   "execution_count": 3,
   "id": "e3ad630a-47ed-497d-ad0b-288ab7e34a61",
   "metadata": {},
   "outputs": [
    {
     "ename": "SyntaxError",
     "evalue": "invalid syntax (4178804535.py, line 9)",
     "output_type": "error",
     "traceback": [
      "\u001b[0;36m  Cell \u001b[0;32mIn[3], line 9\u001b[0;36m\u001b[0m\n\u001b[0;31m    Confidence Interval = 0.65 + 1.96 * sqrt((0.65 * (1 - 0.65)) / 500)\u001b[0m\n\u001b[0m               ^\u001b[0m\n\u001b[0;31mSyntaxError\u001b[0m\u001b[0;31m:\u001b[0m invalid syntax\n"
     ]
    }
   ],
   "source": [
    "\n"
   ]
  },
  {
   "cell_type": "markdown",
   "id": "10e9f1ba-92c0-4ff1-849e-8bf30738c1b5",
   "metadata": {},
   "source": [
    "Q12. To test the hypothesis that there is a significant difference between the effectiveness of two different teaching methods on student performance, we can perform a two-sample t-test with a significance level of 0.01. The null hypothesis is that there is no significant difference between the two teaching methods, while the alternative hypothesis is that there is a significant difference.\n",
    "\n",
    "We can calculate the t-statistic as follows:\n",
    "\n",
    "t = (x̄₁ - x̄₂) / (s₁²/n₁ + s₂²/n₂)^(1/2)\n",
    "\n",
    "where x̄₁ is the sample mean for Sample A, x̄₂ is the sample mean for Sample B, s₁ is the sample standard deviation for Sample A, s₂ is the sample standard deviation for Sample B, n₁ is the sample size for Sample A, and n₂ is the sample size for Sample B.\n",
    "\n",
    "Plugging in the given values, we get:\n",
    "\n",
    "t = (85 - 82) / (6²/30 + 5²/30)^(1/2) = 2.36\n",
    "\n",
    "The degrees of freedom for this test are df = n₁ + n₂ - 2 = 58. We can look up the critical t-value for a two-tailed test with a significance level of 0.01 and 58 degrees of freedom in a t-distribution table or use a statistical software. The critical t-value is approximately ±2.660.\n",
    "\n",
    "Since our calculated t-value (2.36) does not exceed the critical t-value (±2.660), we fail to reject the null hypothesis. Therefore, we can conclude that there is not enough evidence to suggest that there is a significant difference between the effectiveness of the two teaching methods.\n",
    "\n",
    "Q13. To calculate the 90% confidence interval for the true population mean based on a sample of 50 observations with a sample mean of 65, we can use the following formula:\n",
    "\n",
    "CI = x̄ ± z* (s / n^(1/2))\n",
    "\n",
    "where x̄ is the sample mean, s is the sample standard deviation, n is the sample size, and z* is the critical value of the standard normal distribution for the desired confidence level (in this case, 90%). The critical value can be found using a z-table or a statistical software. For a 90% confidence level, the critical value is approximately 1.645.\n",
    "\n",
    "Plugging in the given values, we get:\n",
    "\n",
    "CI = 65 ± 1.645 * (8 / 50^(1/2)) = (62.24, 67.76)\n",
    "\n",
    "Therefore, we can be 90% confident that the true population mean falls within the interval of (62.24, 67.76).\n",
    "\n",
    "Q14. To determine if caffeine has a significant effect on reaction time at a 90% confidence level, we can perform a one-sample t-test with the null hypothesis that the population mean reaction time is equal to 0.25 seconds and the alternative hypothesis that it is not equal to 0.25 seconds. The significance level is 0.1 (corresponding to a 90% confidence level) and the sample size is 30.\n",
    "\n",
    "We can calculate the t-statistic as follows:\n",
    "\n",
    "t = (x̄ - μ₀) / (s / n^(1/2))\n",
    "\n",
    "where x̄ is the sample mean, μ₀ is the hypothesized population mean, s is the sample standard deviation, and n is the sample size.\n",
    "\n",
    "Plugging in the given values, we get:\n",
    "\n",
    "t = (0.25 - 0) / (0.05 / 30^(1/2)) = 10.95\n",
    "\n",
    "The degrees of freedom for this test are df = n -"
   ]
  },
  {
   "cell_type": "code",
   "execution_count": null,
   "id": "9b39fc4d-1c15-4f31-b30c-031e56bab836",
   "metadata": {},
   "outputs": [],
   "source": []
  }
 ],
 "metadata": {
  "kernelspec": {
   "display_name": "Python 3 (ipykernel)",
   "language": "python",
   "name": "python3"
  },
  "language_info": {
   "codemirror_mode": {
    "name": "ipython",
    "version": 3
   },
   "file_extension": ".py",
   "mimetype": "text/x-python",
   "name": "python",
   "nbconvert_exporter": "python",
   "pygments_lexer": "ipython3",
   "version": "3.10.8"
  }
 },
 "nbformat": 4,
 "nbformat_minor": 5
}
