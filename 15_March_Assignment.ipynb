{
 "cells": [
  {
   "cell_type": "markdown",
   "id": "d76aaa57-5b83-4a1f-916f-346d6a51566c",
   "metadata": {},
   "source": [
    "Q:1 \n",
    "(a)the application which performs task without help of human.ex-self driving car,robots \n",
    "(b)tool which predict models which the help of data.ex-Netflix\n",
    "(c)brain of machine.ex-chatgpt"
   ]
  },
  {
   "cell_type": "markdown",
   "id": "408e3801-0756-4922-9119-490036f3c02a",
   "metadata": {},
   "source": []
  },
  {
   "cell_type": "markdown",
   "id": "3690fd70-f856-49ee-b543-a8558a505100",
   "metadata": {},
   "source": [
    "Q:2  model which output with the help of train data.ex-decisiontree"
   ]
  },
  {
   "cell_type": "markdown",
   "id": "1e7b0856-c8d2-49a4-9e46-fafdea3e5505",
   "metadata": {},
   "source": [
    "Q:3 model which divide data into group. ex- k-means"
   ]
  },
  {
   "cell_type": "markdown",
   "id": "5e4847d8-e101-4399-91f4-6ace6446cf88",
   "metadata": {},
   "source": [
    "Q:4 AI is super set of these all."
   ]
  },
  {
   "cell_type": "markdown",
   "id": "4a8bbd73-b793-4cf2-86ab-f0f986b54f77",
   "metadata": {},
   "source": []
  },
  {
   "cell_type": "markdown",
   "id": "578b894e-6eaf-466d-b6b7-74fe58359b75",
   "metadata": {},
   "source": [
    "Q:5 training data"
   ]
  },
  {
   "cell_type": "markdown",
   "id": "ccdb7800-f8d1-4cbd-961d-b11119a98466",
   "metadata": {},
   "source": [
    "Q:6 training data - for model training \n",
    "validation data - measure performance of model during training by changing hyperparameter.\n",
    "testing data - checking performance of data which real world unseen data."
   ]
  },
  {
   "cell_type": "markdown",
   "id": "8f01d8aa-e9e8-4eff-8ffa-48b151b12c11",
   "metadata": {},
   "source": [
    "Q:7 \n",
    " unsupervised learning can be a powerful tool for anomaly detection because it can identify anomalies in data without requiring labeled examples. By using clustering algorithms or autoencoders, unsupervised learning can identify patterns in the data that differ significantly from the majority of the data and may indicate anomalies."
   ]
  },
  {
   "cell_type": "markdown",
   "id": "26d6da53-e84a-4b4d-8e2c-7e455a5ef045",
   "metadata": {},
   "source": [
    "Q:8 \n",
    "Here is a list of commonly used supervised and unsupervised learning algorithms:\n",
    "\n",
    "Supervised Learning Algorithms:\n",
    "\n",
    "Linear Regression\n",
    "Logistic Regression\n",
    "Decision Trees\n",
    "Random Forest\n",
    "Support Vector Machines (SVM)\n",
    "Naive Bayes\n",
    "k-Nearest Neighbors (k-NN)\n",
    "Neural Networks (Multilayer Perceptron)\n",
    "\n",
    "\n",
    "Unsupervised Learning Algorithms:\n",
    "\n",
    "K-Means Clustering\n",
    "Hierarchical Clustering\n",
    "Principal Component Analysis (PCA)\n",
    "Independent Component Analysis (ICA)\n",
    "Autoencoder\n",
    "Gaussian Mixture Models (GMM)\n",
    "Self-Organizing Maps (SOM)\n",
    "Density-Based Spatial Clustering of Applications with Noise (DBSCAN)"
   ]
  },
  {
   "cell_type": "code",
   "execution_count": null,
   "id": "7c6f2ca7-4fb9-487c-b726-eedad4c01e71",
   "metadata": {},
   "outputs": [],
   "source": []
  }
 ],
 "metadata": {
  "kernelspec": {
   "display_name": "Python 3 (ipykernel)",
   "language": "python",
   "name": "python3"
  },
  "language_info": {
   "codemirror_mode": {
    "name": "ipython",
    "version": 3
   },
   "file_extension": ".py",
   "mimetype": "text/x-python",
   "name": "python",
   "nbconvert_exporter": "python",
   "pygments_lexer": "ipython3",
   "version": "3.10.8"
  }
 },
 "nbformat": 4,
 "nbformat_minor": 5
}
