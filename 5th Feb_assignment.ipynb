{
 "cells": [
  {
   "cell_type": "markdown",
   "id": "5269d13d-bdc1-4954-bf43-40c1272ce573",
   "metadata": {},
   "source": [
    "Q1. Class and Object in Object-Oriented Programming\n",
    "\n",
    "Class and Object are the two fundamental concepts in Object-Oriented Programming (OOP). A class is a blueprint or a template for creating objects. It defines the attributes (data) and behaviors (methods) that the objects of that class will have. An object is an instance of a class. Objects are created from classes and contain its own data and behavior.\n",
    "\n",
    "For example, consider a Person class with attributes name and age and a method greeting that returns a greeting message."
   ]
  },
  {
   "cell_type": "code",
   "execution_count": 1,
   "id": "0cffbf56-9a14-47dc-9e41-e719fe188bd3",
   "metadata": {},
   "outputs": [],
   "source": [
    "class Person:\n",
    "    def __init__(self, name, age):\n",
    "        self.name = name\n",
    "        self.age = age\n",
    "\n",
    "    def greeting(self):\n",
    "        return f\"Hello, my name is {self.name} and I am {self.age} years old.\"\n"
   ]
  },
  {
   "cell_type": "code",
   "execution_count": 2,
   "id": "7792bfc1-abf9-43a5-a1be-18995bac62b6",
   "metadata": {},
   "outputs": [],
   "source": [
    "person1 = Person(\"John\", 30)\n",
    "person2 = Person(\"Jane\", 25)\n"
   ]
  },
  {
   "cell_type": "markdown",
   "id": "8e76c50f-e961-452e-a5f9-80db52b75098",
   "metadata": {},
   "source": [
    "Q2. Four pillars of OOPs\n",
    "\n",
    "The four pillars of OOPs are:\n",
    "\n",
    "Abstraction: Hiding the implementation details of an object and exposing only the necessary information to the outside world.\n",
    "\n",
    "Encapsulation: Wrapping the data (attributes) and behavior (methods) together in a single unit (object).\n",
    "\n",
    "Inheritance: Creating a new class that inherits the attributes and behaviors of an existing class.\n",
    "\n",
    "Polymorphism: The ability of an object to take on many forms. For example, the same method can be implemented in different ways for different classes.\n"
   ]
  },
  {
   "cell_type": "markdown",
   "id": "7cfec79f-205f-4b9c-a335-c456a6419230",
   "metadata": {},
   "source": [
    "Q3. __init__ function\n",
    "\n",
    "The __init__ function is a special method in Python classes. It is used to initialize the object's state when it is created. The __init__ method is called automatically when an object is created from the class, and it is used to set the initial values for the object's attributes.\n",
    "\n",
    "For example, consider a Person class with attributes name and age:"
   ]
  },
  {
   "cell_type": "code",
   "execution_count": null,
   "id": "cf85cfc0-435c-4bea-9098-81450f1420c6",
   "metadata": {},
   "outputs": [],
   "source": []
  }
 ],
 "metadata": {
  "kernelspec": {
   "display_name": "Python 3 (ipykernel)",
   "language": "python",
   "name": "python3"
  },
  "language_info": {
   "codemirror_mode": {
    "name": "ipython",
    "version": 3
   },
   "file_extension": ".py",
   "mimetype": "text/x-python",
   "name": "python",
   "nbconvert_exporter": "python",
   "pygments_lexer": "ipython3",
   "version": "3.10.8"
  }
 },
 "nbformat": 4,
 "nbformat_minor": 5
}
