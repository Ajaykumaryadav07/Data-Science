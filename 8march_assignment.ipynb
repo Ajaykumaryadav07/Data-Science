{
 "cells": [
  {
   "cell_type": "markdown",
   "id": "b9f2fbdf-a3c2-4072-829b-4c9272dcf98c",
   "metadata": {},
   "source": [
    "Q1. What is the Probability density function?\n",
    "\n",
    "A Probability density function (PDF) is a function that describes the likelihood of a continuous random variable taking on a particular value or set of values. The area under the curve of a PDF between any two values represents the probability that the random variable falls within that range."
   ]
  },
  {
   "cell_type": "markdown",
   "id": "cf3134b9-6b7a-4358-bf0f-5df539c9cc06",
   "metadata": {},
   "source": [
    "Q2. What are the types of Probability distribution?\n",
    "\n",
    "There are several types of probability distributions, including:\n",
    "\n",
    "Normal distribution\n",
    "Binomial distribution\n",
    "Poisson distribution\n",
    "Exponential distribution\n",
    "Chi-square distribution\n",
    "Student's t-distribution\n",
    "F-distribution"
   ]
  },
  {
   "cell_type": "markdown",
   "id": "985aec50-a339-40e2-91e3-be3f16593485",
   "metadata": {},
   "source": [
    "Q3. Write a Python function to calculate the probability density function of a normal distribution with given mean and standard deviation at a given point."
   ]
  },
  {
   "cell_type": "code",
   "execution_count": 2,
   "id": "9eb13075-8c9f-41d6-aa8e-8b586df9e866",
   "metadata": {},
   "outputs": [],
   "source": [
    "import math\n",
    "\n",
    "def normal_pdf(x, mu, sigma):\n",
    "    \"\"\"Calculate the probability density function of a normal distribution at a given point.\"\"\"\n",
    "    return (1 / (sigma * math.sqrt(2 * math.pi))) * math.exp(-(x - mu)**2 / (2 * sigma**2))\n"
   ]
  },
  {
   "cell_type": "markdown",
   "id": "1187e323-103e-497d-89ba-9c52e3b24b5e",
   "metadata": {},
   "source": [
    "Q4. What are the properties of Binomial distribution? Give two examples of events where binomial distribution can be applied.\n",
    "\n",
    "The binomial distribution is a discrete probability distribution that describes the number of successes in a fixed number of independent trials, where each trial has the same probability of success.\n",
    "\n",
    "Properties of the binomial distribution include:\n",
    "\n",
    "The number of trials is fixed.\n",
    "Each trial is independent.\n",
    "The probability of success is constant.\n",
    "The distribution is discrete.\n",
    "Two examples of events where binomial distribution can be applied are:\n",
    "\n",
    "Flipping a coin multiple times and counting the number of times it lands heads up.\n",
    "Testing a new drug on a sample of patients and counting the number of patients who experience a desired outcome.\n"
   ]
  },
  {
   "cell_type": "markdown",
   "id": "40645eff-3b73-4ecd-af39-cf9d2cb0187f",
   "metadata": {},
   "source": [
    "Q5. Generate a random sample of size 1000 from a binomial distribution with probability of success 0.4 and plot a histogram of the results using matplotlib"
   ]
  },
  {
   "cell_type": "code",
   "execution_count": 3,
   "id": "c382a1c7-d2a8-4d1a-a38e-a2345d2d48cf",
   "metadata": {},
   "outputs": [
    {
     "data": {
      "image/png": "[encoded data removed]",
      "text/plain": [
       "<Figure size 640x480 with 1 Axes>"
      ]
     },
     "metadata": {},
     "output_type": "display_data"
    }
   ],
   "source": [
    "import numpy as np\n",
    "import matplotlib.pyplot as plt\n",
    "\n",
    "# Generate a random sample of size 1000 from a binomial distribution\n",
    "n = 1000  # sample size\n",
    "p = 0.4  # probability of success\n",
    "sample = np.random.binomial(n, p, size=n)\n",
    "\n",
    "# Plot a histogram of the sample\n",
    "plt.hist(sample, bins=50)\n",
    "plt.xlabel('Number of successes')\n",
    "plt.ylabel('Frequency')\n",
    "plt.title('Binomial Distribution')\n",
    "plt.show()\n"
   ]
  },
  {
   "cell_type": "markdown",
   "id": "34e4bf7d-7bba-440e-a842-e66695b8fcc5",
   "metadata": {},
   "source": [
    "Q6. Write a Python function to calculate the cumulative distribution function of a Poisson distribution with given mean at a given point."
   ]
  },
  {
   "cell_type": "code",
   "execution_count": 4,
   "id": "50a6ef98-915b-439e-b462-74441d0c052f",
   "metadata": {},
   "outputs": [],
   "source": [
    "import math\n",
    "\n",
    "def poisson_cdf(x, mu):\n",
    "    \"\"\"Calculate the cumulative distribution function of a Poisson distribution at a given point.\"\"\"\n",
    "    cdf = 0\n",
    "    for i in range(x+1):\n",
    "        cdf += (math.exp(-mu) * mu**i) / math.factorial(i)\n",
    "    return c\n"
   ]
  },
  {
   "cell_type": "markdown",
   "id": "cbd43119-2512-41a4-be96-74b8442594e7",
   "metadata": {},
   "source": [
    "Q7. How Binomial distribution different from Poisson distribution?\n",
    "\n",
    "Binomial and Poisson distributions are both discrete probability distributions, but they are used to model different types of events. The main differences between them are:\n",
    "\n",
    "Binomial distribution models the number of successes in a fixed number of independent trials, where each trial has the same probability of success. Poisson distribution, on the other hand, models the number of events that occur in a fixed interval of time or space, where the events occur randomly and independently of each other.\n",
    "\n",
    "Binomial distribution has two parameters: the number of trials and the probability of success. Poisson distribution, on the other hand, has only one parameter: the mean number of events per interval.\n",
    "\n",
    "Binomial distribution can be approximated by a Poisson distribution when the number of trials is large and the probability of success is small. This is known as the Poisson approximation to the binomial distribution."
   ]
  },
  {
   "cell_type": "markdown",
   "id": "c4af8230-aa11-4dad-a7ab-786a4d6f01e5",
   "metadata": {},
   "source": [
    "Q8. Generate a random sample of size 1000 from a Poisson distribution with mean 5 and calculate the sample mean and variance."
   ]
  },
  {
   "cell_type": "code",
   "execution_count": 5,
   "id": "31ebbbde-f5c1-4fcb-8ffe-c426afd41588",
   "metadata": {},
   "outputs": [
    {
     "name": "stdout",
     "output_type": "stream",
     "text": [
      "Sample mean: 5.008\n",
      "Sample variance: 5.345936\n"
     ]
    }
   ],
   "source": [
    "import numpy as np\n",
    "\n",
    "# Generate a random sample of size 1000 from a Poisson distribution with mean 5\n",
    "n = 1000\n",
    "mu = 5\n",
    "sample = np.random.poisson(mu, size=n)\n",
    "\n",
    "# Calculate the sample mean and variance\n",
    "mean = np.mean(sample)\n",
    "variance = np.var(sample)\n",
    "\n",
    "print(\"Sample mean:\", mean)\n",
    "print(\"Sample variance:\", variance)\n"
   ]
  },
  {
   "cell_type": "markdown",
   "id": "a3286971-e624-4f50-8dd3-1588bfe4537e",
   "metadata": {},
   "source": [
    "Q9. How mean and variance are related in Binomial distribution and Poisson distribution?"
   ]
  },
  {
   "cell_type": "markdown",
   "id": "c28f118f-30bb-4032-8bf6-d9e0cd4dd910",
   "metadata": {},
   "source": [
    "In a binomial distribution, the mean is equal to the product of the number of trials and the probability of success, and the variance is equal to the product of the number of trials, the probability of success, and the probability of failure. That is:\n",
    "\n",
    "Mean = n * p\n",
    "Variance = n * p * (1 - p)\n",
    "In a Poisson distribution, both the mean and the variance are equal to the parameter mu, which represents the mean number of events per interval. That is:\n",
    "\n",
    "Mean = Variance = mu"
   ]
  },
  {
   "cell_type": "code",
   "execution_count": null,
   "id": "4ffa16f8-a962-438b-9ff4-e2cc9adb1c4d",
   "metadata": {},
   "outputs": [],
   "source": []
  }
 ],
 "metadata": {
  "kernelspec": {
   "display_name": "Python 3 (ipykernel)",
   "language": "python",
   "name": "python3"
  },
  "language_info": {
   "codemirror_mode": {
    "name": "ipython",
    "version": 3
   },
   "file_extension": ".py",
   "mimetype": "text/x-python",
   "name": "python",
   "nbconvert_exporter": "python",
   "pygments_lexer": "ipython3",
   "version": "3.10.8"
  }
 },
 "nbformat": 4,
 "nbformat_minor": 5
}
