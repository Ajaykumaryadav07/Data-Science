{
 "cells": [
  {
   "cell_type": "code",
   "execution_count": 1,
   "id": "3a71a33c-90af-4248-b15c-d623e7806eb4",
   "metadata": {},
   "outputs": [
    {
     "name": "stdout",
     "output_type": "stream",
     "text": [
      "Original DataFrame:\n",
      "     A   B   C\n",
      "1  10  40  70\n",
      "3  20  50  80\n",
      "5  30  60  90\n",
      "\n",
      "Reindexed DataFrame:\n",
      "     A   B   C\n",
      "1  10  40  70\n",
      "3  20  50  80\n",
      "5  30  60  90\n"
     ]
    }
   ],
   "source": [
    "import pandas as pd\n",
    "\n",
    "def reindex_df(df):\n",
    "    # Get the number of rows in the DataFrame\n",
    "    n_rows = df.shape[0]\n",
    "    \n",
    "    # Create a new index starting from 1 and incrementing by 2\n",
    "    new_index = pd.Index(range(1, 2*n_rows, 2))\n",
    "    \n",
    "    # Assign the new index to the DataFrame\n",
    "    df.index = new_index\n",
    "    \n",
    "    # Return the reindexed DataFrame\n",
    "    return df\n",
    "\n",
    "# Create a sample DataFrame\n",
    "df = pd.DataFrame({'A': [10, 20, 30], 'B': [40, 50, 60], 'C': [70, 80, 90]})\n",
    "\n",
    "# Reindex the DataFrame\n",
    "reindexed_df = reindex_df(df)\n",
    "\n",
    "# Print the original and reindexed DataFrames\n",
    "print(\"Original DataFrame:\\n\", df)\n",
    "print(\"\\nReindexed DataFrame:\\n\", reindexed_df)\n"
   ]
  },
  {
   "cell_type": "code",
   "execution_count": 2,
   "id": "12b0dcbc-10f1-4275-b301-48f79b645c17",
   "metadata": {},
   "outputs": [
    {
     "name": "stdout",
     "output_type": "stream",
     "text": [
      "sum first three value: 60\n"
     ]
    }
   ],
   "source": [
    "##Q3:\n",
    "def sum_first_three(df):\n",
    "    value_col=df['values']\n",
    "    sum_first_three=sum(value_col[0:3])\n",
    "    print(\"sum first three value:\",sum_first_three)\n",
    "df=pd.DataFrame({'values':[10,20,30,40,50]})\n",
    "sum_first_three(df)\n",
    "    "
   ]
  },
  {
   "cell_type": "code",
   "execution_count": 3,
   "id": "3f741d14-1b47-468f-b620-2fcdc1eb1500",
   "metadata": {},
   "outputs": [
    {
     "name": "stdout",
     "output_type": "stream",
     "text": [
      "                         Text  Word_Count\n",
      "0  This is a sample sentence.           5\n",
      "1   Here is another sentence.           4\n",
      "2  One more for good measure.           5\n"
     ]
    }
   ],
   "source": [
    "#Q:4\n",
    "def add_word_count(df):\n",
    "    word_count=df['Text'].str.split().str.len()\n",
    "    df['Word_Count']=word_count\n",
    "    return df\n",
    "df = pd.DataFrame({'Text': ['This is a sample sentence.', 'Here is another sentence.', 'One more for good measure.']})\n",
    "df=add_word_count(df)\n",
    "print(df)"
   ]
  },
  {
   "cell_type": "markdown",
   "id": "b4daa7f8-2237-4fe3-ab54-58fd6deeb3f7",
   "metadata": {},
   "source": [
    "#Q5\n",
    "Both DataFrame.size() and DataFrame.shape() are methods in Pandas that provide information about the dimensions of a DataFrame, but they differ in what they return.\n",
    "\n",
    "DataFrame.size() returns the total number of elements in the DataFrame, which is equivalent to the number of rows multiplied by the number of columns. It returns a scalar value.\n",
    "\n",
    "On the other hand, DataFrame.shape() returns a tuple that contains the number of rows and columns in the DataFrame, respectively. So, it provides information about the shape of the DataFrame."
   ]
  },
  {
   "cell_type": "markdown",
   "id": "1e9be09a-c67e-4f3b-8036-1cb7328b48f8",
   "metadata": {},
   "source": [
    "Q:6 pandas.read_excel()"
   ]
  },
  {
   "cell_type": "code",
   "execution_count": 4,
   "id": "1328897d-480d-4cfb-a347-98f475645352",
   "metadata": {},
   "outputs": [
    {
     "name": "stdout",
     "output_type": "stream",
     "text": [
      "                    Email    Username\n",
      "0    john.doe@example.com    john.doe\n",
      "1  jane.smith@example.com  jane.smith\n",
      "2  jimmy.choo@example.com  jimmy.choo\n"
     ]
    }
   ],
   "source": [
    "#Q:7\n",
    "def extract_username(df):\n",
    "    get_username = lambda email: email.split('@')[0]\n",
    "    df['Username'] = df['Email'].apply(get_username)\n",
    "    return df\n",
    "df = pd.DataFrame({'Email': ['john.doe@example.com', 'jane.smith@example.com', 'jimmy.choo@example.com']})\n",
    "df=extract_username(df)\n",
    "print(df)"
   ]
  },
  {
   "cell_type": "code",
   "execution_count": 5,
   "id": "1d7f4360-549f-4880-b1d0-165587dd8493",
   "metadata": {},
   "outputs": [
    {
     "name": "stdout",
     "output_type": "stream",
     "text": [
      "   A  B  C\n",
      "1  8  2  7\n",
      "2  6  9  4\n",
      "4  9  1  2\n"
     ]
    }
   ],
   "source": [
    "#Q:8\n",
    "def select_rows(df):\n",
    "    mask = (df['A'] > 5) & (df['B'] < 10)\n",
    "    selected_rows = df[mask]\n",
    "    return selected_rows\n",
    "df = pd.DataFrame({'A': [3, 8, 6, 2, 9], 'B': [5, 2, 9, 3, 1], 'C': [1, 7, 4, 5, 2]})\n",
    "selected_rows = select_rows(df)\n",
    "print(selected_rows)"
   ]
  },
  {
   "cell_type": "code",
   "execution_count": 6,
   "id": "a9d53bcc-1a5b-48aa-9736-09e1c9fae66a",
   "metadata": {},
   "outputs": [
    {
     "name": "stdout",
     "output_type": "stream",
     "text": [
      "Mean: 30.0\n",
      "Median: 30.0\n",
      "Stadard deviation: 15.811388300841896\n"
     ]
    }
   ],
   "source": [
    "#Q:9\n",
    "def calculate_value(df):\n",
    "    m1=df['values'].mean()\n",
    "    m2=df['values'].median()\n",
    "    m3=df['values'].std()\n",
    "    print(\"Mean:\",m1)\n",
    "    print(\"Median:\",m2)\n",
    "    print(\"Stadard deviation:\",m3)\n",
    "    \n",
    "df=pd.DataFrame({'values':[10,20,30,40,50]})\n",
    "calculate_value(df)"
   ]
  },
  {
   "cell_type": "code",
   "execution_count": 9,
   "id": "c1d9f596-38bf-44c7-90e3-1d22ea9e659d",
   "metadata": {},
   "outputs": [
    {
     "name": "stdout",
     "output_type": "stream",
     "text": [
      "    Sales       Date  Moving_average\n",
      "0      10 2022-01-01            10.0\n",
      "1      15 2022-01-02            12.5\n",
      "2      20 2022-01-03            15.0\n",
      "3      25 2022-01-04            17.5\n",
      "4      30 2022-01-05            20.0\n",
      "5      35 2022-01-06            22.5\n",
      "6      40 2022-01-07            25.0\n",
      "7      45 2022-01-08            30.0\n",
      "8      50 2022-01-09            35.0\n",
      "9      55 2022-01-10            40.0\n",
      "10     60 2022-01-11            45.0\n",
      "11     65 2022-01-12            50.0\n",
      "12     70 2022-01-13            55.0\n",
      "13     75 2022-01-14            60.0\n",
      "14     80 2022-01-15            65.0\n"
     ]
    }
   ],
   "source": [
    "#Q:10\n",
    "def calculte_moving(df):\n",
    "    df['Moving_average']=df['Sales'].rolling(window=7,min_periods=1).mean()\n",
    "    return df\n",
    "df=pd.DataFrame({'Sales':[10, 15, 20, 25, 30, 35, 40, 45, 50, 55, 60, 65, 70, 75, 80],\n",
    "               'Date':pd.date_range(start='2022-01-01',end='2022-01-15')})\n",
    "df=calculte_moving(df)\n",
    "print(df)"
   ]
  },
  {
   "cell_type": "code",
   "execution_count": 11,
   "id": "df78573e-3fc5-476b-97af-ff90a0fdd24b",
   "metadata": {},
   "outputs": [
    {
     "name": "stdout",
     "output_type": "stream",
     "text": [
      "        Date    Weekday\n",
      "0 2022-01-01   Saturday\n",
      "1 2022-01-02     Sunday\n",
      "2 2022-01-03     Monday\n",
      "3 2022-01-04    Tuesday\n",
      "4 2022-01-05  Wednesday\n"
     ]
    }
   ],
   "source": [
    "#Q:11\n",
    "import pandas as pd\n",
    "\n",
    "def add_weekday_column(df):\n",
    "    # Convert the 'Date' column to a pandas datetime object\n",
    "    df['Date'] = pd.to_datetime(df['Date'])\n",
    "    \n",
    "    # Extract the weekday name from the 'Date' column using strftime() function\n",
    "    df['Weekday'] = df['Date'].dt.strftime('%A')\n",
    "    \n",
    "    # Return the modified DataFrame\n",
    "    return df\n",
    "\n",
    "df=pd.DataFrame({'Date':pd.date_range(start='2022-01-01',end='2022-01-05')})\n",
    "df=add_weekday_column(df)\n",
    "print(df)"
   ]
  },
  {
   "cell_type": "code",
   "execution_count": 12,
   "id": "a4bfe157-24bf-4258-b2d1-15027da265d3",
   "metadata": {},
   "outputs": [
    {
     "name": "stdout",
     "output_type": "stream",
     "text": [
      "         Date\n",
      "0  2023-01-01\n",
      "1  2023-01-02\n",
      "2  2023-01-03\n",
      "3  2023-01-04\n",
      "4  2023-01-05\n",
      "5  2023-01-06\n",
      "6  2023-01-07\n",
      "7  2023-01-08\n",
      "8  2023-01-09\n",
      "9  2023-01-10\n",
      "10 2023-01-11\n",
      "11 2023-01-12\n",
      "12 2023-01-13\n",
      "13 2023-01-14\n",
      "14 2023-01-15\n",
      "15 2023-01-16\n",
      "16 2023-01-17\n",
      "17 2023-01-18\n",
      "18 2023-01-19\n",
      "19 2023-01-20\n"
     ]
    }
   ],
   "source": [
    "#Q:12\n",
    "def select_rows_between_dates(df):\n",
    "    start_date = pd.to_datetime('2023-01-01')\n",
    "    end_date = pd.to_datetime('2023-01-31')\n",
    "    mask = (df['Date'] >= start_date) & (df['Date'] <= end_date)\n",
    "    return df.loc[mask]\n",
    "df=pd.DataFrame({'Date':pd.date_range(start='2023-01-01',end='2023-02-20')})\n",
    "df=select_rows_between_dates(df)\n",
    "print(df)"
   ]
  },
  {
   "cell_type": "code",
   "execution_count": null,
   "id": "44324dab-e68a-4cfb-9dc1-44707c244059",
   "metadata": {},
   "outputs": [],
   "source": []
  }
 ],
 "metadata": {
  "kernelspec": {
   "display_name": "Python 3 (ipykernel)",
   "language": "python",
   "name": "python3"
  },
  "language_info": {
   "codemirror_mode": {
    "name": "ipython",
    "version": 3
   },
   "file_extension": ".py",
   "mimetype": "text/x-python",
   "name": "python",
   "nbconvert_exporter": "python",
   "pygments_lexer": "ipython3",
   "version": "3.10.8"
  }
 },
 "nbformat": 4,
 "nbformat_minor": 5
}
