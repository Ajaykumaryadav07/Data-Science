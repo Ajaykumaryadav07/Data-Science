{
 "cells": [
  {
   "cell_type": "code",
   "execution_count": 1,
   "id": "64cd25e2-3c0f-4d4c-89a0-39df1aaa750c",
   "metadata": {},
   "outputs": [],
   "source": [
    "#(Q:1)\n",
    "#Tuple items are ordered, unchangeable, and allow duplicate values\n",
    "#Tuple is immutable "
   ]
  },
  {
   "cell_type": "code",
   "execution_count": 2,
   "id": "44557299-558d-4495-b4d0-57a7f7539e0a",
   "metadata": {},
   "outputs": [],
   "source": [
    "#@(Q:2)\n",
    "#Python has two built-in methods that you can use on tuples\n",
    "#1.count(): Returns the number of times a specified value occurs in a tuple\n",
    "#2.index():Searches the tuple for a specified value and returns the position of where it was found\n",
    "#tuples are immutable, you cannot change their content. this is reason of built method is less compare to list."
   ]
  },
  {
   "cell_type": "code",
   "execution_count": 3,
   "id": "4fdd97ab-7fbf-4573-a066-491775a1a5dc",
   "metadata": {},
   "outputs": [],
   "source": [
    "Tuple1 = (0, 1, 2, 3, 2, 3, 1, 3, 2)"
   ]
  },
  {
   "cell_type": "code",
   "execution_count": 4,
   "id": "00670df1-51db-460c-b88c-7ae040f8c26e",
   "metadata": {},
   "outputs": [
    {
     "data": {
      "text/plain": [
       "3"
      ]
     },
     "execution_count": 4,
     "metadata": {},
     "output_type": "execute_result"
    }
   ],
   "source": [
    "Tuple1.count(3)"
   ]
  },
  {
   "cell_type": "code",
   "execution_count": 5,
   "id": "86d20426-9296-4245-82b0-b9a80d0de163",
   "metadata": {},
   "outputs": [
    {
     "data": {
      "text/plain": [
       "3"
      ]
     },
     "execution_count": 5,
     "metadata": {},
     "output_type": "execute_result"
    }
   ],
   "source": [
    "Tuple1.index(3)"
   ]
  },
  {
   "cell_type": "code",
   "execution_count": 6,
   "id": "4e280e27-4cd9-4fe7-8aaa-a0104a6243e3",
   "metadata": {},
   "outputs": [],
   "source": [
    "#(Q:3)\n",
    "#sets\n"
   ]
  },
  {
   "cell_type": "code",
   "execution_count": 7,
   "id": "1a79a514-451a-4e91-a1f0-e76580094726",
   "metadata": {},
   "outputs": [],
   "source": [
    "List = [1, 1, 1, 2, 1, 3, 1, 4, 2, 1, 2, 2, 2, 3, 2, 4, 3, 1, 3, 2, 3, 3, 3, 4, 4, 1, 4, 2, 4, 3, 4, 4]\n",
    "s = set(List)"
   ]
  },
  {
   "cell_type": "code",
   "execution_count": 8,
   "id": "a6e44bd5-db0d-4e48-8005-442d8987e8fa",
   "metadata": {},
   "outputs": [
    {
     "data": {
      "text/plain": [
       "{1, 2, 3, 4}"
      ]
     },
     "execution_count": 8,
     "metadata": {},
     "output_type": "execute_result"
    }
   ],
   "source": [
    "s"
   ]
  },
  {
   "cell_type": "code",
   "execution_count": 9,
   "id": "09219229-f70c-497f-b4d4-b0f2d8879374",
   "metadata": {},
   "outputs": [
    {
     "data": {
      "text/plain": [
       "{3, 4, 5, 6}"
      ]
     },
     "execution_count": 9,
     "metadata": {},
     "output_type": "execute_result"
    }
   ],
   "source": [
    "\n",
    "t={3, 4, 5, 6}\n",
    "t"
   ]
  },
  {
   "cell_type": "code",
   "execution_count": 10,
   "id": "e05ea3d6-eb72-41d0-a3d3-952ff83bba43",
   "metadata": {},
   "outputs": [],
   "source": [
    "#(Q:4)\n",
    "#s.union(t)  s | t   new set with elements from both s and t\n",
    "#s.update(t) s |= t  return set s with elements added from t\n"
   ]
  },
  {
   "cell_type": "code",
   "execution_count": 11,
   "id": "073f44b2-3aeb-44a4-9dc3-cc4c1d374897",
   "metadata": {},
   "outputs": [
    {
     "data": {
      "text/plain": [
       "{1, 2, 3, 4, 5, 6}"
      ]
     },
     "execution_count": 11,
     "metadata": {},
     "output_type": "execute_result"
    }
   ],
   "source": [
    "s.union(t)\n"
   ]
  },
  {
   "cell_type": "code",
   "execution_count": 14,
   "id": "c62877e0-3b18-44e7-bf6a-e09c2cac00bb",
   "metadata": {},
   "outputs": [],
   "source": [
    " s.update(t)"
   ]
  },
  {
   "cell_type": "code",
   "execution_count": 16,
   "id": "26b56ac3-326e-42c9-b813-cb9bcd4be5d3",
   "metadata": {},
   "outputs": [
    {
     "data": {
      "text/plain": [
       "{1, 2, 3, 4, 5, 6}"
      ]
     },
     "execution_count": 16,
     "metadata": {},
     "output_type": "execute_result"
    }
   ],
   "source": [
    "s"
   ]
  },
  {
   "cell_type": "code",
   "execution_count": null,
   "id": "adf7a26a-9d9b-4d78-8b4b-7294ffb8aaf0",
   "metadata": {},
   "outputs": [],
   "source": [
    "#(Q:5)\n",
    "#A dictionary is a data structure that maps keys to values and allows for efficient lookups.In programming, dictionaries are often implemented as hash tables or associative arrays."
   ]
  },
  {
   "cell_type": "code",
   "execution_count": 17,
   "id": "0722537f-b0c5-411c-a680-0ff4b87138de",
   "metadata": {},
   "outputs": [],
   "source": [
    "phone_book = {\n",
    "    \"John\": 123456789,\n",
    "    \"Jane\": 987654321,\n",
    "    \"Jim\": 111111111\n",
    "}"
   ]
  },
  {
   "cell_type": "code",
   "execution_count": 18,
   "id": "a442f38a-1490-464c-9799-c9540d35fef9",
   "metadata": {},
   "outputs": [],
   "source": [
    "#In Python, dictionaries are unordered. The elements in a dictionary have no indices or positions and do not maintain any order. The order may change as items are added or removed from the dictionary."
   ]
  },
  {
   "cell_type": "code",
   "execution_count": 19,
   "id": "afec944f-a664-4fcf-abf7-b65631601b9b",
   "metadata": {},
   "outputs": [],
   "source": [
    "#(Q:6)\n",
    "#Yes, dictionaries can be nested in Python. A nested dictionary is a dictionary that contains one or more dictionaries as its values."
   ]
  },
  {
   "cell_type": "code",
   "execution_count": 21,
   "id": "af2fcb62-48c0-4527-8c17-b67e6f156560",
   "metadata": {},
   "outputs": [],
   "source": [
    "employee = {\n",
    "    \"John\": {\n",
    "        \"age\": 30,\n",
    "        \"position\": \"Manager\"\n",
    "    },\n",
    "    \"Jane\": {\n",
    "        \"age\": 25,\n",
    "        \"position\": \"Developer\"\n",
    "    }\n",
    "}"
   ]
  },
  {
   "cell_type": "code",
   "execution_count": 22,
   "id": "6951ee2e-34a3-4ee9-9f61-98051e0c3c2b",
   "metadata": {},
   "outputs": [],
   "source": [
    "#In this example, the employee dictionary has two keys, \"John\" and \"Jane\", each mapping to a nested dictionary containing information about their age and position."
   ]
  },
  {
   "cell_type": "code",
   "execution_count": 23,
   "id": "f44ee308-b057-41a5-b80c-6eaff152ffa3",
   "metadata": {},
   "outputs": [],
   "source": [
    "#(Q:7)\n",
    "#The setdefault() method can be used to set a default value for a dictionary key if it doesn't already exist. Here's how you could use it to create a key named topics with the value ['Python', 'Machine Learning', 'Deep Learning']:"
   ]
  },
  {
   "cell_type": "code",
   "execution_count": 24,
   "id": "ae44e833-5157-4cd1-8f50-4e100e87329d",
   "metadata": {},
   "outputs": [
    {
     "name": "stdout",
     "output_type": "stream",
     "text": [
      "{'topics': ['Python', 'Machine Learning', 'Deep Learning']}\n"
     ]
    }
   ],
   "source": [
    "my_dict = {}\n",
    "my_dict.setdefault(\"topics\", []).extend(['Python', 'Machine Learning', 'Deep Learning'])\n",
    "print(my_dict)\n"
   ]
  },
  {
   "cell_type": "markdown",
   "id": "7397822d-27dc-4e48-93bf-cd211dfd2a24",
   "metadata": {},
   "source": [
    "In Python, dictionaries have three built-in view objects:\n",
    "\n",
    "keys(),\n",
    "values(),\n",
    "items(),\n",
    " Each of these view objects gives a different perspective on the contents of a dictionary.\n",
    "\n",
    "Here's an example that demonstrates these three methods for a dictionar"
   ]
  },
  {
   "cell_type": "code",
   "execution_count": null,
   "id": "6b33d523-49a0-4a7e-bc9a-8691673873bb",
   "metadata": {},
   "outputs": [],
   "source": []
  }
 ],
 "metadata": {
  "kernelspec": {
   "display_name": "Python 3 (ipykernel)",
   "language": "python",
   "name": "python3"
  },
  "language_info": {
   "codemirror_mode": {
    "name": "ipython",
    "version": 3
   },
   "file_extension": ".py",
   "mimetype": "text/x-python",
   "name": "python",
   "nbconvert_exporter": "python",
   "pygments_lexer": "ipython3",
   "version": "3.10.8"
  }
 },
 "nbformat": 4,
 "nbformat_minor": 5
}
