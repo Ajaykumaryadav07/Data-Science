{
 "cells": [
  {
   "cell_type": "markdown",
   "id": "1785e0d6-704e-44ff-8168-5b557a4c80c5",
   "metadata": {},
   "source": [
    "\n",
    "Q1. What is Statistics?\n",
    "Statistics is the branch of mathematics that deals with the collection, analysis, interpretation, presentation, and organization of data. It involves the use of statistical methods to make inferences and draw conclusions about a population based on a sample of data."
   ]
  },
  {
   "cell_type": "markdown",
   "id": "cd665e61-7ea9-4b23-9ec1-f4143b1015f1",
   "metadata": {},
   "source": []
  },
  {
   "cell_type": "markdown",
   "id": "484e9460-8fe6-4df5-97fa-5efc33b68812",
   "metadata": {},
   "source": []
  },
  {
   "cell_type": "markdown",
   "id": "69ec5031-2ee3-4f4d-bd66-af32c99f2c4f",
   "metadata": {},
   "source": [
    "Q2. Define the different types of statistics and give an example of when each type might be used.\n",
    "Descriptive statistics: It involves summarizing and describing the main features of a dataset. For example, calculating the mean, median, and mode of a set of exam scores.\n",
    "Inferential statistics: It involves making generalizations and drawing conclusions about a population based on a sample of data. For example, using hypothesis testing to determine if a new drug is effective for a specific population."
   ]
  },
  {
   "cell_type": "markdown",
   "id": "8f623c53-100e-410a-b4d4-e34fa51c8969",
   "metadata": {},
   "source": [
    "Q3. What are the different types of data and how do they differ from each other? Provide an example of each type of data.\n",
    "The different types of data are:\n",
    "Qualitative data: It describes characteristics or qualities that cannot be measured in numerical terms. For example, hair color, gender, and occupation.\n",
    "Quantitative data: It describes numerical measurements or quantities. For example, height, weight, and age."
   ]
  },
  {
   "cell_type": "markdown",
   "id": "1d8f1dad-0546-4580-a39c-cf3a4b926525",
   "metadata": {},
   "source": [
    "Q4. Categorise the following datasets with respect to quantitative and qualitative data types:\n",
    "(i) Grading in exam: A+, A, B+, B, C+, C, D, E (Qualitative data)\n",
    "(ii) Colour of mangoes: yellow, green, orange, red (Qualitative data)\n",
    "(iii) Height data of a class: [178.9, 179, 179.5, 176, 177.2, 178.3, 175.8,...] (Quantitative data)\n",
    "(iv) Number of mangoes exported by a farm: [500, 600, 478, 672, ...] (Quantitative data)"
   ]
  },
  {
   "cell_type": "markdown",
   "id": "e4b79457-03fb-4d6c-b37d-519f00a483b2",
   "metadata": {},
   "source": [
    "Q5. Explain the concept of levels of measurement and give an example of a variable for each level.\n",
    "Levels of measurement refer to the types of data that can be collected, which have different properties and analysis requirements. The four levels of measurement are nominal, ordinal, interval, and ratio.\n",
    "Nominal: It represents data that can be classified into categories without any order or ranking. For example, gender or eye color.\n",
    "Ordinal: It represents data that can be ranked or ordered, but the differences between values are not equal. For example, the ranks in a race or academic grades.\n",
    "Interval: It represents data that can be ranked, and the differences between values are equal, but there is no true zero point. For example, temperature in Celsius or Fahrenheit.\n",
    "Ratio: It represents data that can be ranked, the differences between values are equal, and there is a true zero point. For example, height or weight."
   ]
  },
  {
   "cell_type": "markdown",
   "id": "3b4751ae-4b8f-4df4-a602-22afb64619c0",
   "metadata": {},
   "source": [
    "Q6. Why is it important to understand the level of measurement when analyzing data? Provide an example to illustrate your answer.\n",
    "It is important to understand the level of measurement when analyzing data because it affects the types of statistical analysis that can be performed. For example, nominal data can only be analyzed using descriptive statistics, while interval or ratio data can be analyzed using both descriptive and inferential statistics. Suppose we are analyzing the effectiveness of a new weight loss program using data collected on the heights and weights of participants. If we mistakenly treat height as a ratio variable, we may calculate the mean height and use it as a denominator in calculating the mean weight. This would result in a biased estimate of the mean weight."
   ]
  }
 ],
 "metadata": {
  "kernelspec": {
   "display_name": "Python 3 (ipykernel)",
   "language": "python",
   "name": "python3"
  },
  "language_info": {
   "codemirror_mode": {
    "name": "ipython",
    "version": 3
   },
   "file_extension": ".py",
   "mimetype": "text/x-python",
   "name": "python",
   "nbconvert_exporter": "python",
   "pygments_lexer": "ipython3",
   "version": "3.10.8"
  }
 },
 "nbformat": 4,
 "nbformat_minor": 5
}
