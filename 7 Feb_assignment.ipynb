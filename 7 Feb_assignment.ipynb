{
 "cells": [
  {
   "cell_type": "code",
   "execution_count": 1,
   "id": "9c14741b-7cd2-444f-8e42-a9d2d2fd532e",
   "metadata": {},
   "outputs": [],
   "source": [
    "def check_password(password):\n",
    "    import re\n",
    "  \n",
    "    # Password Guidelines\n",
    "    # 1. Must contain at least 8 characters\n",
    "    # 2. Must contain at least one uppercase letter\n",
    "    # 3. Must contain at least one lowercase letter\n",
    "    # 4. Must contain at least one digit\n",
    "    # 5. Must contain at least one special character\n",
    "    \n",
    "    if len(password) < 8:\n",
    "        return \"Invalid Password\"\n",
    "    elif not re.search(\"[A-Z]\", password):\n",
    "        return \"Invalid Password\"\n",
    "    elif not re.search(\"[a-z]\", password):\n",
    "        return \"Invalid Password\"\n",
    "    elif not re.search(\"[0-9]\", password):\n",
    "        return \"Invalid Password\"\n",
    "    elif not re.search(\"[!@#$%^&*(),.?\\\":{}|<>]\", password):\n",
    "        return \"Invalid Password\"\n",
    "    else:\n",
    "        return \"Valid Password\"\n"
   ]
  },
  {
   "cell_type": "code",
   "execution_count": 2,
   "id": "932413ab-dd7f-4796-ad34-4a04d9bb380c",
   "metadata": {},
   "outputs": [
    {
     "name": "stdout",
     "output_type": "stream",
     "text": [
      "Valid Password\n"
     ]
    }
   ],
   "source": [
    "password = \"Password1234!\"\n",
    "result = check_password(password)\n",
    "print(result)\n"
   ]
  },
  {
   "cell_type": "code",
   "execution_count": 3,
   "id": "0db1a23b-b5d9-4b40-9ef5-29748300cbda",
   "metadata": {},
   "outputs": [
    {
     "name": "stdout",
     "output_type": "stream",
     "text": [
      "True\n"
     ]
    }
   ],
   "source": [
    "string = \"Hello World\"\n",
    "letter = \"H\"\n",
    "check = lambda x: True if x.startswith(letter) else False\n",
    "result = check(string)\n",
    "print(result) # True\n"
   ]
  },
  {
   "cell_type": "code",
   "execution_count": 4,
   "id": "97c0ec24-0a00-4f71-84b5-72915f562c2d",
   "metadata": {},
   "outputs": [
    {
     "name": "stdout",
     "output_type": "stream",
     "text": [
      "True\n"
     ]
    }
   ],
   "source": [
    "string = \"12345\"\n",
    "check = lambda x: x.isdigit()\n",
    "result = check(string)\n",
    "print(result) # True\n"
   ]
  },
  {
   "cell_type": "code",
   "execution_count": 5,
   "id": "489384ca-da5b-4b33-9eac-b4937f10aaef",
   "metadata": {},
   "outputs": [
    {
     "name": "stdout",
     "output_type": "stream",
     "text": [
      "[('orange', 80), ('mango', 99), ('grapes', 1000)]\n"
     ]
    }
   ],
   "source": [
    "fruits = [(\"mango\",99),(\"orange\",80),(\"grapes\",1000)]\n",
    "sort_fruits = sorted(fruits, key = lambda x: x[1])\n",
    "print(sort_fruits) # [(\"orange\",80),(\"mango\",99),(\"grapes\",1000)]\n"
   ]
  },
  {
   "cell_type": "code",
   "execution_count": 6,
   "id": "a9c8222c-163e-454b-a7c3-cae2ba35649c",
   "metadata": {},
   "outputs": [
    {
     "name": "stdout",
     "output_type": "stream",
     "text": [
      "[1, 4, 9, 16, 25, 36, 49, 64, 81, 100]\n"
     ]
    }
   ],
   "source": [
    "numbers = [1,2,3,4,5,6,7,8,9,10]\n",
    "squared_numbers = [x**2 for x in numbers]\n",
    "print(squared_numbers) # [1,4,9,16,25,36,49,64,81,100]\n"
   ]
  },
  {
   "cell_type": "code",
   "execution_count": 7,
   "id": "f57bb9db-4d10-42e7-a7df-39ac40b6d988",
   "metadata": {},
   "outputs": [
    {
     "name": "stdout",
     "output_type": "stream",
     "text": [
      "[1.0, 1.2599210498948732, 1.4422495703074083, 1.5874010519681994, 1.7099759466766968, 1.8171205928321397, 1.912931182772389, 2.0, 2.080083823051904, 2.154434690031884]\n"
     ]
    }
   ],
   "source": [
    "import math\n",
    "numbers = [1,2,3,4,5,6,7,8,9,10]\n",
    "cube_roots = [math.pow(x, 1/3) for x in numbers]\n",
    "print(cube_roots) # [1.0, 1.2599210498948732, 1.442249570307408, 1.5874010519681994, 1.7099759466766968, 1.8171205928321397, 1.912931182772389, 1.9992441651368354, 2.080083823051904, 2.154434690031884]\n"
   ]
  },
  {
   "cell_type": "code",
   "execution_count": 8,
   "id": "7c957f6d-37e3-4e71-a287-7673da026faf",
   "metadata": {},
   "outputs": [
    {
     "name": "stdout",
     "output_type": "stream",
     "text": [
      "True\n"
     ]
    }
   ],
   "source": [
    "number = 4\n",
    "check_even = lambda x: True if x%2 == 0 else False\n",
    "result = check_even(number)\n",
    "print(result) # True\n"
   ]
  },
  {
   "cell_type": "code",
   "execution_count": 9,
   "id": "3e0e786b-17a8-42d1-978d-8db970d6478a",
   "metadata": {},
   "outputs": [
    {
     "name": "stdout",
     "output_type": "stream",
     "text": [
      "[1, 3, 5, 7, 9]\n"
     ]
    }
   ],
   "source": [
    "numbers = [1,2,3,4,5,6,7,8,9,10]\n",
    "odd_numbers = list(filter(lambda x: x%2 != 0, numbers))\n",
    "print(odd_numbers) # [1,3,5,7,9]\n"
   ]
  },
  {
   "cell_type": "code",
   "execution_count": null,
   "id": "4ee596e1-f07f-4d7a-acf3-c59adeba75bd",
   "metadata": {},
   "outputs": [],
   "source": []
  }
 ],
 "metadata": {
  "kernelspec": {
   "display_name": "Python 3 (ipykernel)",
   "language": "python",
   "name": "python3"
  },
  "language_info": {
   "codemirror_mode": {
    "name": "ipython",
    "version": 3
   },
   "file_extension": ".py",
   "mimetype": "text/x-python",
   "name": "python",
   "nbconvert_exporter": "python",
   "pygments_lexer": "ipython3",
   "version": "3.10.8"
  }
 },
 "nbformat": 4,
 "nbformat_minor": 5
}
