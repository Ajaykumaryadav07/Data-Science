{
 "cells": [
  {
   "cell_type": "markdown",
   "id": "cf071ea4-dfb2-4b3a-94ef-54b8a534d7cf",
   "metadata": {},
   "source": [
    "Q1. The three measures of central tendency are mean, median, and mode.\n",
    "\n"
   ]
  },
  {
   "cell_type": "markdown",
   "id": "f1db0b00-cc56-4983-872a-d4179ab0774a",
   "metadata": {},
   "source": [
    "Q2. The mean is the average value of a dataset, calculated by adding up all the values and dividing by the total number of values. The median is the middle value of a dataset when the values are arranged in order. The mode is the most frequently occurring value in a dataset. These measures are used to describe the typical or central value of a dataset."
   ]
  },
  {
   "cell_type": "markdown",
   "id": "04d800eb-4803-4e05-b09e-2632c0f951b5",
   "metadata": {},
   "source": [
    "Q3. Mean = 177.6, Median = 177.5, Mode = 178"
   ]
  },
  {
   "cell_type": "markdown",
   "id": "433f85d0-a115-4ff6-be4f-d1c3e6ea3f48",
   "metadata": {},
   "source": [
    "Q4. Standard deviation = 1.834"
   ]
  },
  {
   "cell_type": "markdown",
   "id": "c9a44eb0-09e3-4857-b461-c304219b8b3d",
   "metadata": {},
   "source": [
    "Q5. Measures of dispersion such as range, variance, and standard deviation are used to describe the spread of a dataset. Range is the difference between the maximum and minimum values in a dataset. Variance is a measure of how spread out the values are from the mean, calculated by taking the average of the squared differences between each value and the mean. Standard deviation is the square root of the variance. These measures give an idea of how much the values in a dataset vary from the central tendency. For example, if we have two datasets with the same mean but different standard deviations, the one with the larger standard deviation would have more spread out values."
   ]
  },
  {
   "cell_type": "markdown",
   "id": "33651845-28d7-4251-b891-50e3fc4a98dc",
   "metadata": {},
   "source": [
    "Q6. A Venn diagram is a graphical representation of sets, showing their relationships to each other. It consists of overlapping circles or other shapes, with each circle representing a set and the overlap representing the elements that are shared by both sets."
   ]
  },
  {
   "cell_type": "markdown",
   "id": "2f595062-3d5b-4a46-b279-ff42d17565ed",
   "metadata": {},
   "source": [
    "Q7.\n",
    "(i) A B = {2, 6}\n",
    "(ii) A ⋃ B = {0, 2, 3, 4, 5, 6, 7, 8, 10}"
   ]
  },
  {
   "cell_type": "markdown",
   "id": "0e0278e5-4d80-4016-9ba1-f364401556d4",
   "metadata": {},
   "source": [
    "Q8. Skewness in data refers to the degree to which the data is asymmetrical around its mean. It indicates whether the data is evenly distributed around the mean or whether it is biased towards one side."
   ]
  },
  {
   "cell_type": "markdown",
   "id": "dbaca1ef-ff96-414a-bcc2-74c8db044602",
   "metadata": {},
   "source": [
    "Q9. If a data is right-skewed, then the median will be less than the mean. This is because the right-skewed data has a long tail towards the right, which pulls the mean towards the right and away from the median"
   ]
  },
  {
   "cell_type": "markdown",
   "id": "9a3a06cc-9ecf-4cba-97ac-a7f401fd7ad0",
   "metadata": {},
   "source": [
    "Q10. Covariance measures the direction and strength of the linear relationship between two variables. It indicates how much two variables change together. Correlation is a standardized version of covariance, which measures the strength and direction of the linear relationship between two variables on a scale from -1 to +1. Both measures are used to determine the relationship between two variables and can be used to make predictions about one variable based on the other"
   ]
  },
  {
   "cell_type": "markdown",
   "id": "eaa3174f-ea31-4f32-90c8-128bfb36add2",
   "metadata": {},
   "source": [
    "Q11. The formula for calculating the sample mean is:\n",
    "\n",
    "mean = (sum of all values in the sample) / (number of values in the sample)\n",
    "\n",
    "For example, if we have a dataset of 5 values: 2, 4, 6, 8, 10, the mean would be:\n",
    "\n",
    "mean = (2 + 4 + 6 + 8 + 10) / 5\n",
    "= 30 / 5\n",
    "= 6"
   ]
  },
  {
   "cell_type": "markdown",
   "id": "3838acc2-5830-4718-b96e-96b55dd18fb0",
   "metadata": {},
   "source": [
    "Q12. For a normal distribution data, the mean, median, and mode are all equal."
   ]
  },
  {
   "cell_type": "markdown",
   "id": "84e8cafc-4304-47cf-bfed-2edb694e20f4",
   "metadata": {},
   "source": []
  }
 ],
 "metadata": {
  "kernelspec": {
   "display_name": "Python 3 (ipykernel)",
   "language": "python",
   "name": "python3"
  },
  "language_info": {
   "codemirror_mode": {
    "name": "ipython",
    "version": 3
   },
   "file_extension": ".py",
   "mimetype": "text/x-python",
   "name": "python",
   "nbconvert_exporter": "python",
   "pygments_lexer": "ipython3",
   "version": "3.10.8"
  }
 },
 "nbformat": 4,
 "nbformat_minor": 5
}
