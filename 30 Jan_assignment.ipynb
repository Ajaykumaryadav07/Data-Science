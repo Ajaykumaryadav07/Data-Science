{
 "cells": [
  {
   "cell_type": "code",
   "execution_count": 1,
   "id": "ecbf01e8-c3b8-4a11-bce1-b85ac6c4c975",
   "metadata": {},
   "outputs": [
    {
     "name": "stdin",
     "output_type": "stream",
     "text": [
      "Enter your percentage:  28\n"
     ]
    },
    {
     "name": "stdout",
     "output_type": "stream",
     "text": [
      "Your grade is: D\n"
     ]
    }
   ],
   "source": [
    "percentage = float(input(\"Enter your percentage: \"))\n",
    "\n",
    "if percentage > 90:\n",
    "    grade = \"A\"\n",
    "elif percentage > 80 and percentage <= 90:\n",
    "    grade = \"B\"\n",
    "elif percentage >= 60 and percentage <= 80:\n",
    "    grade = \"C\"\n",
    "else:\n",
    "    grade = \"D\"\n",
    "\n",
    "print(\"Your grade is:\", grade)\n"
   ]
  },
  {
   "cell_type": "code",
   "execution_count": 2,
   "id": "9f11ede9-d8b2-4ce4-ab7c-9363b961faeb",
   "metadata": {},
   "outputs": [
    {
     "name": "stdin",
     "output_type": "stream",
     "text": [
      "Enter the cost price of the bike in Rs:  8\n"
     ]
    },
    {
     "name": "stdout",
     "output_type": "stream",
     "text": [
      "The road tax to be paid is: Rs 0.4\n"
     ]
    }
   ],
   "source": [
    "cost_price = float(input(\"Enter the cost price of the bike in Rs: \"))\n",
    "\n",
    "if cost_price > 100000:\n",
    "    road_tax = cost_price * 0.15\n",
    "elif cost_price > 50000 and cost_price <= 100000:\n",
    "    road_tax = cost_price * 0.10\n",
    "else:\n",
    "    road_tax = cost_price * 0.05\n",
    "\n",
    "print(\"The road tax to be paid is: Rs\", road_tax)\n"
   ]
  },
  {
   "cell_type": "code",
   "execution_count": 3,
   "id": "8f4de025-2ff9-44fc-8aa6-b238559a3a07",
   "metadata": {},
   "outputs": [
    {
     "name": "stdin",
     "output_type": "stream",
     "text": [
      "Enter the name of a city:  Delhi\n"
     ]
    },
    {
     "name": "stdout",
     "output_type": "stream",
     "text": [
      "Monuments in Delhi : ['Red Fort']\n"
     ]
    }
   ],
   "source": [
    "city = input(\"Enter the name of a city: \")\n",
    "\n",
    "if city == \"Delhi\":\n",
    "    monuments = [\"Red Fort\"]\n",
    "elif city == \"Agra\":\n",
    "    monuments = [\"Taj Mahal\"]\n",
    "elif city == \"Jaipur\":\n",
    "    monuments = [\"Jal Mahal\"]\n",
    "else:\n",
    "    monuments = [\"Unknown\"]\n",
    "\n",
    "print(\"Monuments in\", city, \":\", monuments)\n"
   ]
  },
  {
   "cell_type": "code",
   "execution_count": 4,
   "id": "f61bc049-be8f-4cd6-9d94-8de8c725f072",
   "metadata": {},
   "outputs": [],
   "source": [
    "def check_divisibility(num):\n",
    "    count = 0\n",
    "    while num > 10:\n",
    "        num = num / 3\n",
    "        count += 1\n",
    "    return count\n"
   ]
  },
  {
   "cell_type": "code",
   "execution_count": 5,
   "id": "2ad0201b-48e9-4226-b96f-895ae0ff9275",
   "metadata": {},
   "outputs": [
    {
     "name": "stdout",
     "output_type": "stream",
     "text": [
      "3\n"
     ]
    }
   ],
   "source": [
    "print(check_divisibility(100))\n"
   ]
  },
  {
   "cell_type": "markdown",
   "id": "ae078acd-6a47-4222-9a8a-81a7f2cc7510",
   "metadata": {},
   "source": [
    "The while loop in Python is used to repeatedly execute a block of code as long as a given condition is true. The syntax for a while loop is as follows:"
   ]
  },
  {
   "cell_type": "code",
   "execution_count": 6,
   "id": "364ab2d0-4012-4d6a-bce6-99055652c079",
   "metadata": {},
   "outputs": [
    {
     "name": "stdout",
     "output_type": "stream",
     "text": [
      "1\n",
      "2\n",
      "3\n",
      "4\n",
      "5\n",
      "6\n",
      "7\n",
      "8\n",
      "9\n",
      "10\n"
     ]
    }
   ],
   "source": [
    "counter = 1\n",
    "\n",
    "while counter <= 10:\n",
    "    print(counter)\n",
    "    counter += 1\n"
   ]
  },
  {
   "cell_type": "code",
   "execution_count": 7,
   "id": "04110890-20cd-4641-813a-410efe4b0611",
   "metadata": {},
   "outputs": [
    {
     "name": "stdout",
     "output_type": "stream",
     "text": [
      "*\n",
      "**\n",
      "***\n",
      "****\n",
      "*****\n"
     ]
    }
   ],
   "source": [
    "rows = 5\n",
    "for i in range(1, rows + 1):\n",
    "    for j in range(1, i + 1):\n",
    "        print(\"*\", end=\"\")\n",
    "    print()\n"
   ]
  },
  {
   "cell_type": "code",
   "execution_count": 8,
   "id": "38b637e9-d05b-4aaf-8aad-bfe9290c57b1",
   "metadata": {},
   "outputs": [
    {
     "name": "stdout",
     "output_type": "stream",
     "text": [
      "*****\n",
      "****\n",
      "***\n",
      "**\n",
      "*\n"
     ]
    }
   ],
   "source": [
    "rows = 5\n",
    "for i in range(rows, 0, -1):\n",
    "    for j in range(0, i):\n",
    "        print(\"*\", end=\"\")\n",
    "    print()\n"
   ]
  },
  {
   "cell_type": "code",
   "execution_count": 9,
   "id": "14180b9c-401f-4842-ac4d-4ce8bd25780e",
   "metadata": {},
   "outputs": [
    {
     "name": "stdout",
     "output_type": "stream",
     "text": [
      "    * \n",
      "   * * \n",
      "  * * * \n",
      " * * * * \n",
      "* * * * * \n",
      " * * * * \n",
      "  * * * \n",
      "   * * \n",
      "    * \n"
     ]
    }
   ],
   "source": [
    "rows = 5\n",
    "for i in range(1, rows + 1):\n",
    "    for j in range(1, rows - i + 1):\n",
    "        print(end=\" \")\n",
    "    for j in range(1, i + 1):\n",
    "        print(\"*\", end=\" \")\n",
    "    print()\n",
    "for i in range(rows - 1, 0, -1):\n",
    "    for j in range(1, rows - i + 1):\n",
    "        print(end=\" \")\n",
    "    for j in range(1, i + 1):\n",
    "        print(\"*\", end=\" \")\n",
    "    print()\n"
   ]
  },
  {
   "cell_type": "code",
   "execution_count": 10,
   "id": "43d89d06-b999-486c-9da0-6f4a27eefbb2",
   "metadata": {},
   "outputs": [
    {
     "name": "stdout",
     "output_type": "stream",
     "text": [
      "10\n",
      "9\n",
      "8\n",
      "7\n",
      "6\n",
      "5\n",
      "4\n",
      "3\n",
      "2\n",
      "1\n"
     ]
    }
   ],
   "source": [
    "counter = 10\n",
    "\n",
    "while counter >= 1:\n",
    "    print(counter)\n",
    "    counter -= 1\n"
   ]
  },
  {
   "cell_type": "code",
   "execution_count": null,
   "id": "bc3799e6-3ea5-4b7a-a6d9-03e237831951",
   "metadata": {},
   "outputs": [],
   "source": []
  }
 ],
 "metadata": {
  "kernelspec": {
   "display_name": "Python 3 (ipykernel)",
   "language": "python",
   "name": "python3"
  },
  "language_info": {
   "codemirror_mode": {
    "name": "ipython",
    "version": 3
   },
   "file_extension": ".py",
   "mimetype": "text/x-python",
   "name": "python",
   "nbconvert_exporter": "python",
   "pygments_lexer": "ipython3",
   "version": "3.10.8"
  }
 },
 "nbformat": 4,
 "nbformat_minor": 5
}
